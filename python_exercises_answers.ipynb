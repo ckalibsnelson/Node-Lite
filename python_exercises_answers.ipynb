{
  "nbformat": 4,
  "nbformat_minor": 0,
  "metadata": {
    "colab": {
      "name": "python-exercises-answers.ipynb",
      "version": "0.3.2",
      "provenance": [],
      "include_colab_link": true
    },
    "kernelspec": {
      "name": "python3",
      "display_name": "Python 3"
    }
  },
  "cells": [
    {
      "cell_type": "markdown",
      "metadata": {
        "id": "view-in-github",
        "colab_type": "text"
      },
      "source": [
        "<a href=\"https://colab.research.google.com/github/ckalibsnelson/Node-Lite/blob/master/python_exercises_answers.ipynb\" target=\"_parent\"><img src=\"https://colab.research.google.com/assets/colab-badge.svg\" alt=\"Open In Colab\"/></a>"
      ]
    },
    {
      "cell_type": "code",
      "metadata": {
        "id": "fdBQOPJy_vpI",
        "colab_type": "code",
        "outputId": "30db8b85-776f-4c2b-e201-04d38660bcc3",
        "colab": {
          "base_uri": "https://localhost:8080/",
          "height": 33
        }
      },
      "source": [
        "print(\"hello world\")"
      ],
      "execution_count": 1,
      "outputs": [
        {
          "output_type": "stream",
          "text": [
            "hello world\n"
          ],
          "name": "stdout"
        }
      ]
    },
    {
      "cell_type": "code",
      "metadata": {
        "id": "yiZyqCrF1PXl",
        "colab_type": "code",
        "colab": {}
      },
      "source": [
        "#variables exercise\n",
        "cupcake_type = \"chocolate\"\n",
        "cupcake_num = 12\n",
        "flour = 2.5\n",
        "egg = True\n",
        "toppings = [\"sprinkles\", \"filling\", \"fruit\"]\n"
      ],
      "execution_count": 0,
      "outputs": []
    },
    {
      "cell_type": "code",
      "metadata": {
        "id": "QB4k6kvq_GrV",
        "colab_type": "code",
        "outputId": "5c5ec791-f7f9-413d-ef22-4a4ef2d35279",
        "colab": {
          "base_uri": "https://localhost:8080/",
          "height": 214
        }
      },
      "source": [
        "#loops exercise\n",
        "for x in range (1, 13):\n",
        "  print(\"Number of cupcakes frosted: \" + str(x))"
      ],
      "execution_count": 3,
      "outputs": [
        {
          "output_type": "stream",
          "text": [
            "Number of cupcakes frosted: 1\n",
            "Number of cupcakes frosted: 2\n",
            "Number of cupcakes frosted: 3\n",
            "Number of cupcakes frosted: 4\n",
            "Number of cupcakes frosted: 5\n",
            "Number of cupcakes frosted: 6\n",
            "Number of cupcakes frosted: 7\n",
            "Number of cupcakes frosted: 8\n",
            "Number of cupcakes frosted: 9\n",
            "Number of cupcakes frosted: 10\n",
            "Number of cupcakes frosted: 11\n",
            "Number of cupcakes frosted: 12\n"
          ],
          "name": "stdout"
        }
      ]
    },
    {
      "cell_type": "code",
      "metadata": {
        "id": "Pflnjp_A_ho8",
        "colab_type": "code",
        "outputId": "2db52c1d-1a01-4891-ae24-524effea8033",
        "colab": {
          "base_uri": "https://localhost:8080/",
          "height": 33
        }
      },
      "source": [
        "#conditionals exercise\n",
        "if egg == True:\n",
        "  print(\"It's rotten! Throw it away.\")\n",
        "else:\n",
        "  print(\"This egg is okay, use it!\")"
      ],
      "execution_count": 4,
      "outputs": [
        {
          "output_type": "stream",
          "text": [
            "It's rotten! Throw it away.\n"
          ],
          "name": "stdout"
        }
      ]
    },
    {
      "cell_type": "code",
      "metadata": {
        "id": "FdwM5MzotWqA",
        "colab_type": "code",
        "colab": {}
      },
      "source": [
        ""
      ],
      "execution_count": 0,
      "outputs": []
    }
  ]
}