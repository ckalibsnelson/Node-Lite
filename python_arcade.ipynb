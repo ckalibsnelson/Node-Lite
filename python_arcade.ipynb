{
  "nbformat": 4,
  "nbformat_minor": 0,
  "metadata": {
    "colab": {
      "name": "python-arcade.ipynb",
      "version": "0.3.2",
      "provenance": [],
      "include_colab_link": true
    },
    "kernelspec": {
      "name": "python3",
      "display_name": "Python 3"
    }
  },
  "cells": [
    {
      "cell_type": "markdown",
      "metadata": {
        "id": "view-in-github",
        "colab_type": "text"
      },
      "source": [
        "<a href=\"https://colab.research.google.com/github/ckalibsnelson/Node-Lite/blob/master/python_arcade.ipynb\" target=\"_parent\"><img src=\"https://colab.research.google.com/assets/colab-badge.svg\" alt=\"Open In Colab\"/></a>"
      ]
    },
    {
      "cell_type": "code",
      "metadata": {
        "id": "MPb0fJ4P8tsy",
        "colab_type": "code",
        "colab": {}
      },
      "source": [
        "from random import randint"
      ],
      "execution_count": 0,
      "outputs": []
    },
    {
      "cell_type": "code",
      "metadata": {
        "id": "7Frg18657Vd5",
        "colab_type": "code",
        "colab": {}
      },
      "source": [
        "#guess the number\n",
        "\n",
        "ans = randint(0,25)\n",
        "stop = False\n",
        "\n",
        "guess = input(\"\\nGuess a number between 0-25: \")\n",
        "guess = int(guess)\n",
        "\n",
        "while stop == False:\n",
        "  if guess > ans:\n",
        "    print(\"guess a lower number!\")\n",
        "    guess = input(\"\\nEnter your new guess: \")\n",
        "    guess = int(guess)\n",
        "  elif guess < ans:\n",
        "    print(\"guess a higher number!\")\n",
        "    guess = input(\"\\nEnter your new guess: \")\n",
        "    guess = int(guess)\n",
        "  elif guess == ans:\n",
        "    print(\"correct! you win!\")\n",
        "    stop = True"
      ],
      "execution_count": 0,
      "outputs": []
    },
    {
      "cell_type": "code",
      "metadata": {
        "id": "njR0n4KHHvl5",
        "colab_type": "code",
        "colab": {}
      },
      "source": [
        "#rock paper scissors\n",
        "\n",
        "options = [\"r\", \"p\", \"s\"]\n",
        "\n",
        "computer_play = options[randint(0,2)]\n",
        "\n",
        "stop = False\n",
        "\n",
        "while stop == False:\n",
        "  computer_play = options[randint(0,2)]\n",
        "  \n",
        "  player = input(\"\\nEnter 'r' for Rock, 'p' for Paper, or 's' for scissors, or type 'stop' to end the game: \")\n",
        "  \n",
        "  #option when player and computer choose the same thing\n",
        "  if computer_play == player:\n",
        "    print(\"tie\")\n",
        "  \n",
        "  #options for when player chooses rock\n",
        "  if player == 'r':\n",
        "    if computer_play == 'p':\n",
        "      print(\"you lose! paper covers rock.\")\n",
        "    elif computer_play == 's':\n",
        "      print('you win! rock crushes scissors.')\n",
        "      \n",
        "  #options for when player chooses paper\n",
        "  if player == 'p':\n",
        "    if computer_play == 'r':\n",
        "      print(\"you win! paper covers rock.\")\n",
        "    elif computer_play == 's':\n",
        "      print(\"you lose! scissors cut paper.\")\n",
        "  \n",
        "  #options for when player chooses scissors\n",
        "  if player == 's':\n",
        "    if computer_play == 'r':\n",
        "      print(\"you lose! rock crushes scissors.\")\n",
        "    if computer_play == 'p':\n",
        "      print(\"you win! scissors cuts paper.\")\n",
        "  \n",
        "  #option if player chooses to stop the game\n",
        "  if player == 'stop':\n",
        "    stop = True\n",
        "    "
      ],
      "execution_count": 0,
      "outputs": []
    },
    {
      "cell_type": "code",
      "metadata": {
        "id": "arDIL3Bd87RB",
        "colab_type": "code",
        "colab": {
          "base_uri": "https://localhost:8080/",
          "height": 33
        },
        "outputId": "2871bfa1-b6ae-4e93-a941-20f834bfc4a0"
      },
      "source": [
        "#choose your own adventure\n",
        "\n",
        "end = False\n",
        "\n",
        "while end == False:\n",
        "  print('Welcome to Choose Your Own Adventure: First Year edition!')\n",
        "  name = input('\\nWhat is your first name?  ')\n",
        "  \n",
        "  print(\"Nice to meet, you, \" + name + \"!! Let's get started. \\nWelcome to your first week at UVA.\")\n",
        "  print(\"You wake up for your first day of class. What are you doing first??\")\n",
        "  ans1 = input(\"\\nEnter '1' to go to breakfast at O-Hill. Enter '2' to go straight to your class at New Cab.  \")\n",
        " \n",
        "  valid = False\n",
        "  while valid == False:\n",
        "    if int(ans1) == 1 or int(ans1) == 2:\n",
        "      valid = True\n",
        "    else:\n",
        "      ans1 = input(\"That wasn't a valid input. Please enter '1' or '2':  \")\n",
        "    \n",
        "  if int(ans1) == 1:\n",
        "    print(\"You head to O-Hill for a delicious breakfast of dry scrambled eggs & a nice UVA waffle. Then you head off to your first class: Astronomy in Clark.\")\n",
        "  elif int(ans1) == 2:\n",
        "    print(\"You head to your first class of the day: Spanish in New Cab. It's pretty boring since it's syllabus day, so you zone out a little bit.\")\n",
        "    print(\"You find yourself tapping your foot and your pencil on the side of your desk. The guy behind you taps your shoulder.\")\n",
        "    print(\"'Hey, can you stop that?' \\n You turn to see yourself staring into the face of none other than KYLE GUY. You're shocked. We're miles away from Sacramento.\")\n",
        "    ans2 = (\"\\nEnter '1' to burst into tears. Enter '2' to sassily ask him why he isn't in Sacramento. \")\n",
        "    valid = False\n",
        "    while valid == False:\n",
        "      if int(ans2) == 1 or int(ans2) == 2:\n",
        "        valid = True\n",
        "      else:\n",
        "        ans2 = input(\"That wasn't a valid input. Please enter '1' or '2':  \")\n",
        "  \n",
        "  \n",
        "  end = True"
      ],
      "execution_count": 0,
      "outputs": [
        {
          "output_type": "stream",
          "text": [
            "Welcome to Choose Your Own Adventure: First Year edition!\n"
          ],
          "name": "stdout"
        }
      ]
    },
    {
      "cell_type": "code",
      "metadata": {
        "id": "4plfIVex9G5R",
        "colab_type": "code",
        "colab": {}
      },
      "source": [
        "#guess the word/hangman\n",
        "\n",
        "possible_words = [\"giraffe\", \"koala\", \"elephant\", \"armadillo\", \"pangolin\", \"anteater\", \"dolphin\", \"tiger\", \"antelope\"]\n",
        "\n",
        "answer = possible_words[randint(0,8)]\n",
        "\n",
        "print(answer)"
      ],
      "execution_count": 0,
      "outputs": []
    }
  ]
}