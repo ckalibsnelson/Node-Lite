{
  "nbformat": 4,
  "nbformat_minor": 0,
  "metadata": {
    "colab": {
      "name": "Hangman Demo.ipynb",
      "provenance": [],
      "include_colab_link": true
    },
    "kernelspec": {
      "name": "python3",
      "display_name": "Python 3"
    }
  },
  "cells": [
    {
      "cell_type": "markdown",
      "metadata": {
        "id": "view-in-github",
        "colab_type": "text"
      },
      "source": [
        "<a href=\"https://colab.research.google.com/github/ckalibsnelson/Node-Lite/blob/master/Hangman_Demo.ipynb\" target=\"_parent\"><img src=\"https://colab.research.google.com/assets/colab-badge.svg\" alt=\"Open In Colab\"/></a>"
      ]
    },
    {
      "cell_type": "code",
      "metadata": {
        "id": "YJaBfoLepPp4",
        "colab_type": "code",
        "colab": {
          "base_uri": "https://localhost:8080/",
          "height": 69
        },
        "outputId": "6ada2952-463a-486e-8324-1c5b57bf2a5f"
      },
      "source": [
        "#guess the word/hangman\n",
        "\n",
        "from random import randint\n",
        "possible_words = [\"giraffe\", \"koala\", \"elephant\", \"armadillo\", \"pangolin\", \"anteater\", \"dolphin\", \"tiger\", \"antelope\"]\n",
        "\n",
        "answer = possible_words[randint(0,8)]\n",
        "print (\"word: \" + \"_ \" *len(answer))\n",
        "guesses = \"\"\n",
        "ans_human = \" \"\n",
        "turn = 0\n",
        "\n",
        "while turn < 10:\n",
        "  guess_input = input(\"guess a letter or type 1 to guess the word - you have \" + str(10-turn) + \" more guesses\\n\")\n",
        "  guesses += guess_input\n",
        "  if guess_input == \"1\":\n",
        "    ans_human = input(\"what's the word?\")\n",
        "  else:\n",
        "    ans_human = \"\"\n",
        "  if guess_input != \"1\":\n",
        "    for char in answer:\n",
        "      if char in guesses:\n",
        "        ans_human += char\n",
        "      else:\n",
        "        ans_human += \"-\"\n",
        "  print(ans_human)\n",
        "  if ans_human == answer:\n",
        "    print(\"you won in \" + str(turn + 1) + \" turns!\")\n",
        "    break\n",
        "  else:\n",
        "    turn += 1\n",
        "\n",
        "if ans_human != answer:\n",
        "  print('You lost! The answer was ' + answer)\n"
      ],
      "execution_count": 0,
      "outputs": [
        {
          "output_type": "stream",
          "text": [
            "word: _ _ _ _ _ _ _ _ _ \n"
          ],
          "name": "stdout"
        }
      ]
    },
    {
      "cell_type": "code",
      "metadata": {
        "id": "kA7kqqexpTAa",
        "colab_type": "code",
        "colab": {}
      },
      "source": [
        ""
      ],
      "execution_count": 0,
      "outputs": []
    }
  ]
}