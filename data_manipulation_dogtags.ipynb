{
  "nbformat": 4,
  "nbformat_minor": 0,
  "metadata": {
    "colab": {
      "name": "data_manipulation_dogtags.ipynb",
      "provenance": [],
      "collapsed_sections": [],
      "include_colab_link": true
    },
    "kernelspec": {
      "name": "python3",
      "display_name": "Python 3"
    }
  },
  "cells": [
    {
      "cell_type": "markdown",
      "metadata": {
        "id": "view-in-github",
        "colab_type": "text"
      },
      "source": [
        "<a href=\"https://colab.research.google.com/github/ckalibsnelson/Node-Lite/blob/master/data_manipulation_dogtags.ipynb\" target=\"_parent\"><img src=\"https://colab.research.google.com/assets/colab-badge.svg\" alt=\"Open In Colab\"/></a>"
      ]
    },
    {
      "cell_type": "markdown",
      "metadata": {
        "id": "Y4pvPOBmv9xb",
        "colab_type": "text"
      },
      "source": [
        "# Intro to Pandas with Cville Dog Tags"
      ]
    },
    {
      "cell_type": "code",
      "metadata": {
        "id": "WfsyKCUWo1Q0",
        "colab_type": "code",
        "colab": {}
      },
      "source": [
        "import pandas as pd"
      ],
      "execution_count": 0,
      "outputs": []
    },
    {
      "cell_type": "markdown",
      "metadata": {
        "id": "M-LaMAs_o9T-",
        "colab_type": "text"
      },
      "source": [
        "Use the pandas read_csv function to read in the dog tags data file. "
      ]
    },
    {
      "cell_type": "code",
      "metadata": {
        "id": "8CWpirY9o7e0",
        "colab_type": "code",
        "colab": {}
      },
      "source": [
        "#Change header\n",
        "dogs = pd.read_csv('https://raw.githubusercontent.com/benartuso/nodef19/master/data/dog_tags.csv', header = 0)\n",
        "dogs"
      ],
      "execution_count": 0,
      "outputs": []
    },
    {
      "cell_type": "markdown",
      "metadata": {
        "id": "4IjXsACtplVr",
        "colab_type": "text"
      },
      "source": [
        "This takes up a lot of space in our notebook—we can use the .head() or .tail() functions to get a quick glimpse of the dataframe's contents."
      ]
    },
    {
      "cell_type": "code",
      "metadata": {
        "id": "WN4JN-HMpHfj",
        "colab_type": "code",
        "outputId": "684f7e30-ef97-4150-cd73-6011d8d43a26",
        "colab": {
          "base_uri": "https://localhost:8080/",
          "height": 202
        }
      },
      "source": [
        "dogs.head()"
      ],
      "execution_count": 0,
      "outputs": [
        {
          "output_type": "execute_result",
          "data": {
            "text/html": [
              "<div>\n",
              "<style scoped>\n",
              "    .dataframe tbody tr th:only-of-type {\n",
              "        vertical-align: middle;\n",
              "    }\n",
              "\n",
              "    .dataframe tbody tr th {\n",
              "        vertical-align: top;\n",
              "    }\n",
              "\n",
              "    .dataframe thead th {\n",
              "        text-align: right;\n",
              "    }\n",
              "</style>\n",
              "<table border=\"1\" class=\"dataframe\">\n",
              "  <thead>\n",
              "    <tr style=\"text-align: right;\">\n",
              "      <th></th>\n",
              "      <th>RecordID</th>\n",
              "      <th>FeeAmount</th>\n",
              "      <th>RabiesExpirationDate</th>\n",
              "      <th>StreetName</th>\n",
              "      <th>TagNumber</th>\n",
              "      <th>TagType</th>\n",
              "      <th>TagYear</th>\n",
              "      <th>BlockNumber</th>\n",
              "    </tr>\n",
              "  </thead>\n",
              "  <tbody>\n",
              "    <tr>\n",
              "      <th>0</th>\n",
              "      <td>1</td>\n",
              "      <td>4</td>\n",
              "      <td>2016-08-13T04:00:00.000Z</td>\n",
              "      <td>GROVE AVE</td>\n",
              "      <td>NaN</td>\n",
              "      <td>Unsexed - 1 Year</td>\n",
              "      <td>2016</td>\n",
              "      <td>1100.0</td>\n",
              "    </tr>\n",
              "    <tr>\n",
              "      <th>1</th>\n",
              "      <td>2</td>\n",
              "      <td>4</td>\n",
              "      <td>2017-03-15T04:00:00.000Z</td>\n",
              "      <td>SHERIDAN AVE</td>\n",
              "      <td>NaN</td>\n",
              "      <td>Unsexed - 1 Year</td>\n",
              "      <td>2016</td>\n",
              "      <td>1000.0</td>\n",
              "    </tr>\n",
              "    <tr>\n",
              "      <th>2</th>\n",
              "      <td>3</td>\n",
              "      <td>4</td>\n",
              "      <td>2016-10-25T04:00:00.000Z</td>\n",
              "      <td>GROVE AVE</td>\n",
              "      <td>0.0</td>\n",
              "      <td>Unsexed - 1 Year</td>\n",
              "      <td>2015</td>\n",
              "      <td>1000.0</td>\n",
              "    </tr>\n",
              "    <tr>\n",
              "      <th>3</th>\n",
              "      <td>4</td>\n",
              "      <td>12</td>\n",
              "      <td>2016-07-04T04:00:00.000Z</td>\n",
              "      <td>DRUID AVE</td>\n",
              "      <td>54.0</td>\n",
              "      <td>Unsexed - 3 Year</td>\n",
              "      <td>2013</td>\n",
              "      <td>11000.0</td>\n",
              "    </tr>\n",
              "    <tr>\n",
              "      <th>4</th>\n",
              "      <td>5</td>\n",
              "      <td>4</td>\n",
              "      <td>2018-08-02T04:00:00.000Z</td>\n",
              "      <td>MADISON AVE</td>\n",
              "      <td>202.0</td>\n",
              "      <td>Unsexed - 1 Year</td>\n",
              "      <td>2015</td>\n",
              "      <td>700.0</td>\n",
              "    </tr>\n",
              "  </tbody>\n",
              "</table>\n",
              "</div>"
            ],
            "text/plain": [
              "   RecordID  FeeAmount  ... TagYear BlockNumber\n",
              "0         1          4  ...    2016      1100.0\n",
              "1         2          4  ...    2016      1000.0\n",
              "2         3          4  ...    2015      1000.0\n",
              "3         4         12  ...    2013     11000.0\n",
              "4         5          4  ...    2015       700.0\n",
              "\n",
              "[5 rows x 8 columns]"
            ]
          },
          "metadata": {
            "tags": []
          },
          "execution_count": 5
        }
      ]
    },
    {
      "cell_type": "code",
      "metadata": {
        "id": "HLfsI7gJpwFx",
        "colab_type": "code",
        "outputId": "7745ec3a-75f0-49aa-cdbe-a2c986ead91c",
        "colab": {
          "base_uri": "https://localhost:8080/",
          "height": 202
        }
      },
      "source": [
        "dogs.tail()"
      ],
      "execution_count": 0,
      "outputs": [
        {
          "output_type": "execute_result",
          "data": {
            "text/html": [
              "<div>\n",
              "<style scoped>\n",
              "    .dataframe tbody tr th:only-of-type {\n",
              "        vertical-align: middle;\n",
              "    }\n",
              "\n",
              "    .dataframe tbody tr th {\n",
              "        vertical-align: top;\n",
              "    }\n",
              "\n",
              "    .dataframe thead th {\n",
              "        text-align: right;\n",
              "    }\n",
              "</style>\n",
              "<table border=\"1\" class=\"dataframe\">\n",
              "  <thead>\n",
              "    <tr style=\"text-align: right;\">\n",
              "      <th></th>\n",
              "      <th>RecordID</th>\n",
              "      <th>FeeAmount</th>\n",
              "      <th>RabiesExpirationDate</th>\n",
              "      <th>StreetName</th>\n",
              "      <th>TagNumber</th>\n",
              "      <th>TagType</th>\n",
              "      <th>TagYear</th>\n",
              "      <th>BlockNumber</th>\n",
              "    </tr>\n",
              "  </thead>\n",
              "  <tbody>\n",
              "    <tr>\n",
              "      <th>18332</th>\n",
              "      <td>17996</td>\n",
              "      <td>10</td>\n",
              "      <td>2020-12-06T05:00:00.000Z</td>\n",
              "      <td>GREENBRIER TER</td>\n",
              "      <td>55175.0</td>\n",
              "      <td>Lifetime dog tag</td>\n",
              "      <td>2018</td>\n",
              "      <td>100.0</td>\n",
              "    </tr>\n",
              "    <tr>\n",
              "      <th>18333</th>\n",
              "      <td>17997</td>\n",
              "      <td>10</td>\n",
              "      <td>2020-07-10T04:00:00.000Z</td>\n",
              "      <td>JEFFERSON PARK AVE</td>\n",
              "      <td>55176.0</td>\n",
              "      <td>Lifetime dog tag</td>\n",
              "      <td>2018</td>\n",
              "      <td>2700.0</td>\n",
              "    </tr>\n",
              "    <tr>\n",
              "      <th>18334</th>\n",
              "      <td>17998</td>\n",
              "      <td>10</td>\n",
              "      <td>2019-04-05T04:00:00.000Z</td>\n",
              "      <td>MONTROSE AVE</td>\n",
              "      <td>55177.0</td>\n",
              "      <td>Lifetime dog tag</td>\n",
              "      <td>2018</td>\n",
              "      <td>800.0</td>\n",
              "    </tr>\n",
              "    <tr>\n",
              "      <th>18335</th>\n",
              "      <td>17999</td>\n",
              "      <td>10</td>\n",
              "      <td>2021-08-27T04:00:00.000Z</td>\n",
              "      <td>BAYLOR LN</td>\n",
              "      <td>55178.0</td>\n",
              "      <td>Lifetime dog tag</td>\n",
              "      <td>2018</td>\n",
              "      <td>100.0</td>\n",
              "    </tr>\n",
              "    <tr>\n",
              "      <th>18336</th>\n",
              "      <td>18000</td>\n",
              "      <td>10</td>\n",
              "      <td>2020-12-01T05:00:00.000Z</td>\n",
              "      <td>BROAD AVE</td>\n",
              "      <td>55179.0</td>\n",
              "      <td>Lifetime dog tag</td>\n",
              "      <td>2018</td>\n",
              "      <td>1500.0</td>\n",
              "    </tr>\n",
              "  </tbody>\n",
              "</table>\n",
              "</div>"
            ],
            "text/plain": [
              "       RecordID  FeeAmount  ... TagYear BlockNumber\n",
              "18332     17996         10  ...    2018       100.0\n",
              "18333     17997         10  ...    2018      2700.0\n",
              "18334     17998         10  ...    2018       800.0\n",
              "18335     17999         10  ...    2018       100.0\n",
              "18336     18000         10  ...    2018      1500.0\n",
              "\n",
              "[5 rows x 8 columns]"
            ]
          },
          "metadata": {
            "tags": []
          },
          "execution_count": 6
        }
      ]
    },
    {
      "cell_type": "markdown",
      "metadata": {
        "id": "NV4VRxOPp1pA",
        "colab_type": "text"
      },
      "source": [
        "These both default to displaying 5 rows, but you can specify the number you want when calling the function. "
      ]
    },
    {
      "cell_type": "code",
      "metadata": {
        "id": "EMNtCNA_p0Ad",
        "colab_type": "code",
        "outputId": "c8ff89a3-6c1f-45c1-a615-5c29f7d44a98",
        "colab": {
          "base_uri": "https://localhost:8080/",
          "height": 110
        }
      },
      "source": [
        "dogs.head(2)"
      ],
      "execution_count": 0,
      "outputs": [
        {
          "output_type": "execute_result",
          "data": {
            "text/html": [
              "<div>\n",
              "<style scoped>\n",
              "    .dataframe tbody tr th:only-of-type {\n",
              "        vertical-align: middle;\n",
              "    }\n",
              "\n",
              "    .dataframe tbody tr th {\n",
              "        vertical-align: top;\n",
              "    }\n",
              "\n",
              "    .dataframe thead th {\n",
              "        text-align: right;\n",
              "    }\n",
              "</style>\n",
              "<table border=\"1\" class=\"dataframe\">\n",
              "  <thead>\n",
              "    <tr style=\"text-align: right;\">\n",
              "      <th></th>\n",
              "      <th>RecordID</th>\n",
              "      <th>FeeAmount</th>\n",
              "      <th>RabiesExpirationDate</th>\n",
              "      <th>StreetName</th>\n",
              "      <th>TagNumber</th>\n",
              "      <th>TagType</th>\n",
              "      <th>TagYear</th>\n",
              "      <th>BlockNumber</th>\n",
              "    </tr>\n",
              "  </thead>\n",
              "  <tbody>\n",
              "    <tr>\n",
              "      <th>0</th>\n",
              "      <td>1</td>\n",
              "      <td>4</td>\n",
              "      <td>2016-08-13T04:00:00.000Z</td>\n",
              "      <td>GROVE AVE</td>\n",
              "      <td>NaN</td>\n",
              "      <td>Unsexed - 1 Year</td>\n",
              "      <td>2016</td>\n",
              "      <td>1100.0</td>\n",
              "    </tr>\n",
              "    <tr>\n",
              "      <th>1</th>\n",
              "      <td>2</td>\n",
              "      <td>4</td>\n",
              "      <td>2017-03-15T04:00:00.000Z</td>\n",
              "      <td>SHERIDAN AVE</td>\n",
              "      <td>NaN</td>\n",
              "      <td>Unsexed - 1 Year</td>\n",
              "      <td>2016</td>\n",
              "      <td>1000.0</td>\n",
              "    </tr>\n",
              "  </tbody>\n",
              "</table>\n",
              "</div>"
            ],
            "text/plain": [
              "   RecordID  FeeAmount  ... TagYear BlockNumber\n",
              "0         1          4  ...    2016      1100.0\n",
              "1         2          4  ...    2016      1000.0\n",
              "\n",
              "[2 rows x 8 columns]"
            ]
          },
          "metadata": {
            "tags": []
          },
          "execution_count": 9
        }
      ]
    },
    {
      "cell_type": "markdown",
      "metadata": {
        "id": "mwVHy1N4qAZ7",
        "colab_type": "text"
      },
      "source": [
        "Get the dimensions of the data frame (rows, columns)"
      ]
    },
    {
      "cell_type": "code",
      "metadata": {
        "id": "u7s2iklOp_t_",
        "colab_type": "code",
        "outputId": "4c79a48c-dd4d-4887-8baf-a063194bd2e7",
        "colab": {
          "base_uri": "https://localhost:8080/",
          "height": 35
        }
      },
      "source": [
        "dogs.shape"
      ],
      "execution_count": 0,
      "outputs": [
        {
          "output_type": "execute_result",
          "data": {
            "text/plain": [
              "(18337, 8)"
            ]
          },
          "metadata": {
            "tags": []
          },
          "execution_count": 10
        }
      ]
    },
    {
      "cell_type": "markdown",
      "metadata": {
        "id": "Af0vBtEXqMQv",
        "colab_type": "text"
      },
      "source": [
        "# Subsetting dataframes"
      ]
    },
    {
      "cell_type": "markdown",
      "metadata": {
        "id": "PoqVovBzqRoU",
        "colab_type": "text"
      },
      "source": [
        "## Getting just one column: **Two ways**"
      ]
    },
    {
      "cell_type": "code",
      "metadata": {
        "id": "65zkTObVGbKc",
        "colab_type": "code",
        "outputId": "1b72ae8a-c394-4e9d-82df-ec128013d95f",
        "colab": {
          "base_uri": "https://localhost:8080/",
          "height": 69
        }
      },
      "source": [
        "#List\n",
        "dogs.columns"
      ],
      "execution_count": 0,
      "outputs": [
        {
          "output_type": "execute_result",
          "data": {
            "text/plain": [
              "Index(['RecordID', 'FeeAmount', 'RabiesExpirationDate', 'StreetName',\n",
              "       'TagNumber', 'TagType', 'TagYear', 'BlockNumber'],\n",
              "      dtype='object')"
            ]
          },
          "metadata": {
            "tags": []
          },
          "execution_count": 11
        }
      ]
    },
    {
      "cell_type": "markdown",
      "metadata": {
        "id": "oSTGjKyJq_LR",
        "colab_type": "text"
      },
      "source": [
        "Retrieving a column *as a one-column dataframe*"
      ]
    },
    {
      "cell_type": "code",
      "metadata": {
        "id": "D5U3TxN6d2Mp",
        "colab_type": "code",
        "outputId": "7a12f935-a2ca-4e32-f552-4e59b57abfbd",
        "colab": {
          "base_uri": "https://localhost:8080/",
          "height": 202
        }
      },
      "source": [
        "dogs[['FeeAmount', 'TagType']].head()"
      ],
      "execution_count": 0,
      "outputs": [
        {
          "output_type": "execute_result",
          "data": {
            "text/html": [
              "<div>\n",
              "<style scoped>\n",
              "    .dataframe tbody tr th:only-of-type {\n",
              "        vertical-align: middle;\n",
              "    }\n",
              "\n",
              "    .dataframe tbody tr th {\n",
              "        vertical-align: top;\n",
              "    }\n",
              "\n",
              "    .dataframe thead th {\n",
              "        text-align: right;\n",
              "    }\n",
              "</style>\n",
              "<table border=\"1\" class=\"dataframe\">\n",
              "  <thead>\n",
              "    <tr style=\"text-align: right;\">\n",
              "      <th></th>\n",
              "      <th>FeeAmount</th>\n",
              "      <th>TagType</th>\n",
              "    </tr>\n",
              "  </thead>\n",
              "  <tbody>\n",
              "    <tr>\n",
              "      <th>0</th>\n",
              "      <td>4</td>\n",
              "      <td>Unsexed - 1 Year</td>\n",
              "    </tr>\n",
              "    <tr>\n",
              "      <th>1</th>\n",
              "      <td>4</td>\n",
              "      <td>Unsexed - 1 Year</td>\n",
              "    </tr>\n",
              "    <tr>\n",
              "      <th>2</th>\n",
              "      <td>4</td>\n",
              "      <td>Unsexed - 1 Year</td>\n",
              "    </tr>\n",
              "    <tr>\n",
              "      <th>3</th>\n",
              "      <td>12</td>\n",
              "      <td>Unsexed - 3 Year</td>\n",
              "    </tr>\n",
              "    <tr>\n",
              "      <th>4</th>\n",
              "      <td>4</td>\n",
              "      <td>Unsexed - 1 Year</td>\n",
              "    </tr>\n",
              "  </tbody>\n",
              "</table>\n",
              "</div>"
            ],
            "text/plain": [
              "   FeeAmount                    TagType\n",
              "0          4  Unsexed - 1 Year         \n",
              "1          4  Unsexed - 1 Year         \n",
              "2          4  Unsexed - 1 Year         \n",
              "3         12  Unsexed - 3 Year         \n",
              "4          4  Unsexed - 1 Year         "
            ]
          },
          "metadata": {
            "tags": []
          },
          "execution_count": 16
        }
      ]
    },
    {
      "cell_type": "code",
      "metadata": {
        "id": "6FYzLk2jqeWV",
        "colab_type": "code",
        "outputId": "e322048c-574d-4523-846e-b85122edfe48",
        "colab": {
          "base_uri": "https://localhost:8080/",
          "height": 35
        }
      },
      "source": [
        "type(dogs[['StreetName']])"
      ],
      "execution_count": 0,
      "outputs": [
        {
          "output_type": "execute_result",
          "data": {
            "text/plain": [
              "pandas.core.frame.DataFrame"
            ]
          },
          "metadata": {
            "tags": []
          },
          "execution_count": 15
        }
      ]
    },
    {
      "cell_type": "code",
      "metadata": {
        "id": "D5WoVo6_0FFK",
        "colab_type": "code",
        "outputId": "ab76a09c-306c-479d-e83b-1d2e38bcad8d",
        "colab": {
          "base_uri": "https://localhost:8080/",
          "height": 202
        }
      },
      "source": [
        "dogs[['StreetName']].head()"
      ],
      "execution_count": 0,
      "outputs": [
        {
          "output_type": "execute_result",
          "data": {
            "text/html": [
              "<div>\n",
              "<style scoped>\n",
              "    .dataframe tbody tr th:only-of-type {\n",
              "        vertical-align: middle;\n",
              "    }\n",
              "\n",
              "    .dataframe tbody tr th {\n",
              "        vertical-align: top;\n",
              "    }\n",
              "\n",
              "    .dataframe thead th {\n",
              "        text-align: right;\n",
              "    }\n",
              "</style>\n",
              "<table border=\"1\" class=\"dataframe\">\n",
              "  <thead>\n",
              "    <tr style=\"text-align: right;\">\n",
              "      <th></th>\n",
              "      <th>StreetName</th>\n",
              "    </tr>\n",
              "  </thead>\n",
              "  <tbody>\n",
              "    <tr>\n",
              "      <th>0</th>\n",
              "      <td>GROVE AVE</td>\n",
              "    </tr>\n",
              "    <tr>\n",
              "      <th>1</th>\n",
              "      <td>SHERIDAN AVE</td>\n",
              "    </tr>\n",
              "    <tr>\n",
              "      <th>2</th>\n",
              "      <td>GROVE AVE</td>\n",
              "    </tr>\n",
              "    <tr>\n",
              "      <th>3</th>\n",
              "      <td>DRUID AVE</td>\n",
              "    </tr>\n",
              "    <tr>\n",
              "      <th>4</th>\n",
              "      <td>MADISON AVE</td>\n",
              "    </tr>\n",
              "  </tbody>\n",
              "</table>\n",
              "</div>"
            ],
            "text/plain": [
              "      StreetName\n",
              "0     GROVE AVE \n",
              "1  SHERIDAN AVE \n",
              "2     GROVE AVE \n",
              "3     DRUID AVE \n",
              "4   MADISON AVE "
            ]
          },
          "metadata": {
            "tags": []
          },
          "execution_count": 25
        }
      ]
    },
    {
      "cell_type": "code",
      "metadata": {
        "id": "89a_ag25IluQ",
        "colab_type": "code",
        "outputId": "0decb580-c8c5-4dfa-8891-cd34102c2606",
        "colab": {
          "base_uri": "https://localhost:8080/",
          "height": 202
        }
      },
      "source": [
        "dogs[['StreetName', 'TagNumber']].head()"
      ],
      "execution_count": 0,
      "outputs": [
        {
          "output_type": "execute_result",
          "data": {
            "text/html": [
              "<div>\n",
              "<style scoped>\n",
              "    .dataframe tbody tr th:only-of-type {\n",
              "        vertical-align: middle;\n",
              "    }\n",
              "\n",
              "    .dataframe tbody tr th {\n",
              "        vertical-align: top;\n",
              "    }\n",
              "\n",
              "    .dataframe thead th {\n",
              "        text-align: right;\n",
              "    }\n",
              "</style>\n",
              "<table border=\"1\" class=\"dataframe\">\n",
              "  <thead>\n",
              "    <tr style=\"text-align: right;\">\n",
              "      <th></th>\n",
              "      <th>StreetName</th>\n",
              "      <th>TagNumber</th>\n",
              "    </tr>\n",
              "  </thead>\n",
              "  <tbody>\n",
              "    <tr>\n",
              "      <th>0</th>\n",
              "      <td>GROVE AVE</td>\n",
              "      <td>NaN</td>\n",
              "    </tr>\n",
              "    <tr>\n",
              "      <th>1</th>\n",
              "      <td>SHERIDAN AVE</td>\n",
              "      <td>NaN</td>\n",
              "    </tr>\n",
              "    <tr>\n",
              "      <th>2</th>\n",
              "      <td>GROVE AVE</td>\n",
              "      <td>0.0</td>\n",
              "    </tr>\n",
              "    <tr>\n",
              "      <th>3</th>\n",
              "      <td>DRUID AVE</td>\n",
              "      <td>54.0</td>\n",
              "    </tr>\n",
              "    <tr>\n",
              "      <th>4</th>\n",
              "      <td>MADISON AVE</td>\n",
              "      <td>202.0</td>\n",
              "    </tr>\n",
              "  </tbody>\n",
              "</table>\n",
              "</div>"
            ],
            "text/plain": [
              "      StreetName  TagNumber\n",
              "0     GROVE AVE         NaN\n",
              "1  SHERIDAN AVE         NaN\n",
              "2     GROVE AVE         0.0\n",
              "3     DRUID AVE        54.0\n",
              "4   MADISON AVE       202.0"
            ]
          },
          "metadata": {
            "tags": []
          },
          "execution_count": 73
        }
      ]
    },
    {
      "cell_type": "markdown",
      "metadata": {
        "id": "fiaxbDWqeBSZ",
        "colab_type": "text"
      },
      "source": [
        "These do not change the original dataframe in place"
      ]
    },
    {
      "cell_type": "markdown",
      "metadata": {
        "id": "j9SPNp3brFEc",
        "colab_type": "text"
      },
      "source": [
        "Retrieving a column *as a pandas series*"
      ]
    },
    {
      "cell_type": "code",
      "metadata": {
        "id": "8dkUt2njx9YM",
        "colab_type": "code",
        "outputId": "f54040bc-ce56-412e-a322-eb64aed359bd",
        "colab": {
          "base_uri": "https://localhost:8080/",
          "height": 35
        }
      },
      "source": [
        "#Selecting as a pandas series\n"
      ],
      "execution_count": 0,
      "outputs": [
        {
          "output_type": "execute_result",
          "data": {
            "text/plain": [
              "pandas.core.series.Series"
            ]
          },
          "metadata": {
            "tags": []
          },
          "execution_count": 21
        }
      ]
    },
    {
      "cell_type": "code",
      "metadata": {
        "id": "d3RrIxPXqpR4",
        "colab_type": "code",
        "outputId": "2811ee00-64b6-4854-eee4-e59f31891bcd",
        "colab": {
          "base_uri": "https://localhost:8080/",
          "height": 52
        }
      },
      "source": [
        "print(type(dogs['StreetName']))\n",
        "print(type(dogs.StreetName))"
      ],
      "execution_count": 0,
      "outputs": [
        {
          "output_type": "stream",
          "text": [
            "<class 'pandas.core.series.Series'>\n",
            "<class 'pandas.core.series.Series'>\n"
          ],
          "name": "stdout"
        }
      ]
    },
    {
      "cell_type": "markdown",
      "metadata": {
        "id": "DPua7FGcu8Ou",
        "colab_type": "text"
      },
      "source": [
        "### Changing Column Names"
      ]
    },
    {
      "cell_type": "code",
      "metadata": {
        "id": "PRcbY1T-u-WO",
        "colab_type": "code",
        "outputId": "3492ddc2-04b0-44ce-883b-93cbaa99d69b",
        "colab": {
          "base_uri": "https://localhost:8080/",
          "height": 69
        }
      },
      "source": [
        "dogs.columns #No parentheses! This isn't a method"
      ],
      "execution_count": 0,
      "outputs": [
        {
          "output_type": "execute_result",
          "data": {
            "text/plain": [
              "Index(['RecordID', 'FeeAmount', 'RabiesExpirationDate', 'StreetName',\n",
              "       'TagNumber', 'TagType', 'TagYear', 'BlockNumber'],\n",
              "      dtype='object')"
            ]
          },
          "metadata": {
            "tags": []
          },
          "execution_count": 22
        }
      ]
    },
    {
      "cell_type": "markdown",
      "metadata": {
        "id": "Uqhdz3BxvD3c",
        "colab_type": "text"
      },
      "source": [
        "These column names aren't too bad, but they will occasionally have spaces, strange capitalization, or other things that make it harder to quickly access them. \n",
        "\n",
        "We can rename them for clarity and to make our lives easier."
      ]
    },
    {
      "cell_type": "code",
      "metadata": {
        "id": "OfRuEs2dvDFu",
        "colab_type": "code",
        "colab": {}
      },
      "source": [
        "dogs.columns = ['id', 'fee', 'exp_date', 'street', 'number', 'type', 'year', 'block']"
      ],
      "execution_count": 0,
      "outputs": []
    },
    {
      "cell_type": "code",
      "metadata": {
        "id": "jfbnNceYvhTw",
        "colab_type": "code",
        "outputId": "7169859e-e9be-4c84-d6fa-8362ebbbd7f6",
        "colab": {
          "base_uri": "https://localhost:8080/",
          "height": 202
        }
      },
      "source": [
        "dogs.head()"
      ],
      "execution_count": 0,
      "outputs": [
        {
          "output_type": "execute_result",
          "data": {
            "text/html": [
              "<div>\n",
              "<style scoped>\n",
              "    .dataframe tbody tr th:only-of-type {\n",
              "        vertical-align: middle;\n",
              "    }\n",
              "\n",
              "    .dataframe tbody tr th {\n",
              "        vertical-align: top;\n",
              "    }\n",
              "\n",
              "    .dataframe thead th {\n",
              "        text-align: right;\n",
              "    }\n",
              "</style>\n",
              "<table border=\"1\" class=\"dataframe\">\n",
              "  <thead>\n",
              "    <tr style=\"text-align: right;\">\n",
              "      <th></th>\n",
              "      <th>id</th>\n",
              "      <th>fee</th>\n",
              "      <th>exp_date</th>\n",
              "      <th>street</th>\n",
              "      <th>number</th>\n",
              "      <th>type</th>\n",
              "      <th>year</th>\n",
              "      <th>block</th>\n",
              "    </tr>\n",
              "  </thead>\n",
              "  <tbody>\n",
              "    <tr>\n",
              "      <th>0</th>\n",
              "      <td>1</td>\n",
              "      <td>4</td>\n",
              "      <td>2016-08-13T04:00:00.000Z</td>\n",
              "      <td>GROVE AVE</td>\n",
              "      <td>NaN</td>\n",
              "      <td>Unsexed - 1 Year</td>\n",
              "      <td>2016</td>\n",
              "      <td>1100.0</td>\n",
              "    </tr>\n",
              "    <tr>\n",
              "      <th>1</th>\n",
              "      <td>2</td>\n",
              "      <td>4</td>\n",
              "      <td>2017-03-15T04:00:00.000Z</td>\n",
              "      <td>SHERIDAN AVE</td>\n",
              "      <td>NaN</td>\n",
              "      <td>Unsexed - 1 Year</td>\n",
              "      <td>2016</td>\n",
              "      <td>1000.0</td>\n",
              "    </tr>\n",
              "    <tr>\n",
              "      <th>2</th>\n",
              "      <td>3</td>\n",
              "      <td>4</td>\n",
              "      <td>2016-10-25T04:00:00.000Z</td>\n",
              "      <td>GROVE AVE</td>\n",
              "      <td>0.0</td>\n",
              "      <td>Unsexed - 1 Year</td>\n",
              "      <td>2015</td>\n",
              "      <td>1000.0</td>\n",
              "    </tr>\n",
              "    <tr>\n",
              "      <th>3</th>\n",
              "      <td>4</td>\n",
              "      <td>12</td>\n",
              "      <td>2016-07-04T04:00:00.000Z</td>\n",
              "      <td>DRUID AVE</td>\n",
              "      <td>54.0</td>\n",
              "      <td>Unsexed - 3 Year</td>\n",
              "      <td>2013</td>\n",
              "      <td>11000.0</td>\n",
              "    </tr>\n",
              "    <tr>\n",
              "      <th>4</th>\n",
              "      <td>5</td>\n",
              "      <td>4</td>\n",
              "      <td>2018-08-02T04:00:00.000Z</td>\n",
              "      <td>MADISON AVE</td>\n",
              "      <td>202.0</td>\n",
              "      <td>Unsexed - 1 Year</td>\n",
              "      <td>2015</td>\n",
              "      <td>700.0</td>\n",
              "    </tr>\n",
              "  </tbody>\n",
              "</table>\n",
              "</div>"
            ],
            "text/plain": [
              "   id  fee                  exp_date  ...                       type  year    block\n",
              "0   1    4  2016-08-13T04:00:00.000Z  ...  Unsexed - 1 Year           2016   1100.0\n",
              "1   2    4  2017-03-15T04:00:00.000Z  ...  Unsexed - 1 Year           2016   1000.0\n",
              "2   3    4  2016-10-25T04:00:00.000Z  ...  Unsexed - 1 Year           2015   1000.0\n",
              "3   4   12  2016-07-04T04:00:00.000Z  ...  Unsexed - 3 Year           2013  11000.0\n",
              "4   5    4  2018-08-02T04:00:00.000Z  ...  Unsexed - 1 Year           2015    700.0\n",
              "\n",
              "[5 rows x 8 columns]"
            ]
          },
          "metadata": {
            "tags": []
          },
          "execution_count": 24
        }
      ]
    },
    {
      "cell_type": "code",
      "metadata": {
        "id": "VskFAGOVMr2L",
        "colab_type": "code",
        "outputId": "f229bbd7-7c29-471b-92a0-e7260a6e473f",
        "colab": {
          "base_uri": "https://localhost:8080/",
          "height": 35
        }
      },
      "source": [
        "dogs.columns"
      ],
      "execution_count": 0,
      "outputs": [
        {
          "output_type": "execute_result",
          "data": {
            "text/plain": [
              "Index(['id', 'fee', 'exp_date', 'street', 'number', 'type', 'year', 'block'], dtype='object')"
            ]
          },
          "metadata": {
            "tags": []
          },
          "execution_count": 25
        }
      ]
    },
    {
      "cell_type": "markdown",
      "metadata": {
        "id": "QTUkpUf1sud9",
        "colab_type": "text"
      },
      "source": [
        "## Selecting rows"
      ]
    },
    {
      "cell_type": "markdown",
      "metadata": {
        "id": "u3US-F31s2Rr",
        "colab_type": "text"
      },
      "source": [
        "### By index\n",
        "Accessing rows of a dataframe by index doesn't work the same as for lists or tuples."
      ]
    },
    {
      "cell_type": "code",
      "metadata": {
        "id": "tWm0vbWLviW6",
        "colab_type": "code",
        "outputId": "c1260943-8c01-436e-84f4-7f39bae8ab5c",
        "colab": {
          "base_uri": "https://localhost:8080/",
          "height": 35
        }
      },
      "source": [
        "color_list = ['red', 'orange', 'yellow', 'green', 'blue', 'purple']\n",
        "color_list[3]"
      ],
      "execution_count": 0,
      "outputs": [
        {
          "output_type": "execute_result",
          "data": {
            "text/plain": [
              "'green'"
            ]
          },
          "metadata": {
            "tags": []
          },
          "execution_count": 26
        }
      ]
    },
    {
      "cell_type": "code",
      "metadata": {
        "id": "WU1SaBkatY2J",
        "colab_type": "code",
        "outputId": "068173dd-9ac8-48b2-c266-34124cfefcb2",
        "colab": {
          "base_uri": "https://localhost:8080/",
          "height": 35
        }
      },
      "source": [
        "try: dogs[3] #This will throw an error\n",
        "except: print(\"You can't index this way!\")"
      ],
      "execution_count": 0,
      "outputs": [
        {
          "output_type": "stream",
          "text": [
            "You can't index this way!\n"
          ],
          "name": "stdout"
        }
      ]
    },
    {
      "cell_type": "markdown",
      "metadata": {
        "id": "ZuhrgZnwujw0",
        "colab_type": "text"
      },
      "source": [
        "Add \".iloc\" (integer location) after the df object to be able to subset by integer index."
      ]
    },
    {
      "cell_type": "code",
      "metadata": {
        "id": "9kgJrW1-tcU7",
        "colab_type": "code",
        "outputId": "c60d1967-c5fe-42ff-ad4e-1a345de689b2",
        "colab": {
          "base_uri": "https://localhost:8080/",
          "height": 537
        }
      },
      "source": [
        "print(dogs.iloc[3])\n",
        "print(dogs.iloc[-3])\n",
        "print(dogs.iloc[1:10])"
      ],
      "execution_count": 0,
      "outputs": [
        {
          "output_type": "stream",
          "text": [
            "id                                  4\n",
            "fee                                12\n",
            "exp_date     2016-07-04T04:00:00.000Z\n",
            "street                     DRUID AVE \n",
            "number                             54\n",
            "type        Unsexed - 3 Year         \n",
            "year                             2013\n",
            "block                           11000\n",
            "Name: 3, dtype: object\n",
            "id                             17998\n",
            "fee                               10\n",
            "exp_date    2019-04-05T04:00:00.000Z\n",
            "street                 MONTROSE AVE \n",
            "number                         55177\n",
            "type                Lifetime dog tag\n",
            "year                            2018\n",
            "block                            800\n",
            "Name: 18334, dtype: object\n",
            "   id  fee                  exp_date  ...                       type  year    block\n",
            "1   2    4  2017-03-15T04:00:00.000Z  ...  Unsexed - 1 Year           2016   1000.0\n",
            "2   3    4  2016-10-25T04:00:00.000Z  ...  Unsexed - 1 Year           2015   1000.0\n",
            "3   4   12  2016-07-04T04:00:00.000Z  ...  Unsexed - 3 Year           2013  11000.0\n",
            "4   5    4  2018-08-02T04:00:00.000Z  ...  Unsexed - 1 Year           2015    700.0\n",
            "5   6    4  2016-09-02T04:00:00.000Z  ...  Unsexed - 1 Year           2015    400.0\n",
            "6   7   10  2018-08-31T04:00:00.000Z  ...  Sexed - 1 Year             2015    400.0\n",
            "7   8    4  2018-06-17T04:00:00.000Z  ...  Unsexed - 1 Year           2013   1200.0\n",
            "8   9    4  2019-03-14T04:00:00.000Z  ...  Unsexed - 1 Year           2016   2100.0\n",
            "9  10    4  2018-03-03T05:00:00.000Z  ...  Unsexed - 1 Year           2016    900.0\n",
            "\n",
            "[9 rows x 8 columns]\n"
          ],
          "name": "stdout"
        }
      ]
    },
    {
      "cell_type": "markdown",
      "metadata": {
        "id": "SOMTCF6mvI_4",
        "colab_type": "text"
      },
      "source": [
        "### By one or more conditions\n",
        "\n",
        "(Don't be confused by the additional '.head()', it is only in there to avoid printing out boolean arrays of the whole 18k row dataframe!)"
      ]
    },
    {
      "cell_type": "code",
      "metadata": {
        "id": "fuGBwJViNaTW",
        "colab_type": "code",
        "colab": {}
      },
      "source": [
        ""
      ],
      "execution_count": 0,
      "outputs": []
    },
    {
      "cell_type": "code",
      "metadata": {
        "id": "lhQh0mM4u2ZU",
        "colab_type": "code",
        "outputId": "4a8e98df-8b46-44a4-968d-c165cd7d442b",
        "colab": {
          "base_uri": "https://localhost:8080/",
          "height": 121
        }
      },
      "source": [
        "(dogs['year'] == 2015).head() "
      ],
      "execution_count": 0,
      "outputs": [
        {
          "output_type": "execute_result",
          "data": {
            "text/plain": [
              "0    False\n",
              "1    False\n",
              "2     True\n",
              "3    False\n",
              "4     True\n",
              "Name: year, dtype: bool"
            ]
          },
          "metadata": {
            "tags": []
          },
          "execution_count": 30
        }
      ]
    },
    {
      "cell_type": "code",
      "metadata": {
        "id": "zr9pDQyc0HrB",
        "colab_type": "code",
        "outputId": "9191fb2f-db40-4d30-a5ee-e7ea082303fb",
        "colab": {
          "base_uri": "https://localhost:8080/",
          "height": 202
        }
      },
      "source": [
        "dogs[dogs.year == 2015].head()"
      ],
      "execution_count": 0,
      "outputs": [
        {
          "output_type": "execute_result",
          "data": {
            "text/html": [
              "<div>\n",
              "<style scoped>\n",
              "    .dataframe tbody tr th:only-of-type {\n",
              "        vertical-align: middle;\n",
              "    }\n",
              "\n",
              "    .dataframe tbody tr th {\n",
              "        vertical-align: top;\n",
              "    }\n",
              "\n",
              "    .dataframe thead th {\n",
              "        text-align: right;\n",
              "    }\n",
              "</style>\n",
              "<table border=\"1\" class=\"dataframe\">\n",
              "  <thead>\n",
              "    <tr style=\"text-align: right;\">\n",
              "      <th></th>\n",
              "      <th>id</th>\n",
              "      <th>fee</th>\n",
              "      <th>exp_date</th>\n",
              "      <th>street</th>\n",
              "      <th>number</th>\n",
              "      <th>type</th>\n",
              "      <th>year</th>\n",
              "      <th>block</th>\n",
              "    </tr>\n",
              "  </thead>\n",
              "  <tbody>\n",
              "    <tr>\n",
              "      <th>2</th>\n",
              "      <td>3</td>\n",
              "      <td>4</td>\n",
              "      <td>2016-10-25T04:00:00.000Z</td>\n",
              "      <td>GROVE AVE</td>\n",
              "      <td>0.0</td>\n",
              "      <td>Unsexed - 1 Year</td>\n",
              "      <td>2015</td>\n",
              "      <td>1000.0</td>\n",
              "    </tr>\n",
              "    <tr>\n",
              "      <th>4</th>\n",
              "      <td>5</td>\n",
              "      <td>4</td>\n",
              "      <td>2018-08-02T04:00:00.000Z</td>\n",
              "      <td>MADISON AVE</td>\n",
              "      <td>202.0</td>\n",
              "      <td>Unsexed - 1 Year</td>\n",
              "      <td>2015</td>\n",
              "      <td>700.0</td>\n",
              "    </tr>\n",
              "    <tr>\n",
              "      <th>5</th>\n",
              "      <td>6</td>\n",
              "      <td>4</td>\n",
              "      <td>2016-09-02T04:00:00.000Z</td>\n",
              "      <td>ARBOR CIR</td>\n",
              "      <td>3136.0</td>\n",
              "      <td>Unsexed - 1 Year</td>\n",
              "      <td>2015</td>\n",
              "      <td>400.0</td>\n",
              "    </tr>\n",
              "    <tr>\n",
              "      <th>6</th>\n",
              "      <td>7</td>\n",
              "      <td>10</td>\n",
              "      <td>2018-08-31T04:00:00.000Z</td>\n",
              "      <td>ARBOR CIR</td>\n",
              "      <td>3137.0</td>\n",
              "      <td>Sexed - 1 Year</td>\n",
              "      <td>2015</td>\n",
              "      <td>400.0</td>\n",
              "    </tr>\n",
              "    <tr>\n",
              "      <th>30</th>\n",
              "      <td>31</td>\n",
              "      <td>4</td>\n",
              "      <td>2017-03-11T05:00:00.000Z</td>\n",
              "      <td>CITY WALK WAY</td>\n",
              "      <td>12504.0</td>\n",
              "      <td>Unsexed - 1 Year</td>\n",
              "      <td>2015</td>\n",
              "      <td>4100.0</td>\n",
              "    </tr>\n",
              "  </tbody>\n",
              "</table>\n",
              "</div>"
            ],
            "text/plain": [
              "    id  fee                  exp_date  ...                       type  year   block\n",
              "2    3    4  2016-10-25T04:00:00.000Z  ...  Unsexed - 1 Year           2015  1000.0\n",
              "4    5    4  2018-08-02T04:00:00.000Z  ...  Unsexed - 1 Year           2015   700.0\n",
              "5    6    4  2016-09-02T04:00:00.000Z  ...  Unsexed - 1 Year           2015   400.0\n",
              "6    7   10  2018-08-31T04:00:00.000Z  ...  Sexed - 1 Year             2015   400.0\n",
              "30  31    4  2017-03-11T05:00:00.000Z  ...  Unsexed - 1 Year           2015  4100.0\n",
              "\n",
              "[5 rows x 8 columns]"
            ]
          },
          "metadata": {
            "tags": []
          },
          "execution_count": 31
        }
      ]
    },
    {
      "cell_type": "code",
      "metadata": {
        "id": "H7TpoN2YIxvk",
        "colab_type": "code",
        "outputId": "18810ad0-cc91-401f-e96c-77aa0bd07d28",
        "colab": {
          "base_uri": "https://localhost:8080/",
          "height": 52
        }
      },
      "source": [
        "print(len(dogs))\n",
        "print(len(dogs[dogs.year==2015]))"
      ],
      "execution_count": 0,
      "outputs": [
        {
          "output_type": "stream",
          "text": [
            "18337\n",
            "2006\n"
          ],
          "name": "stdout"
        }
      ]
    },
    {
      "cell_type": "code",
      "metadata": {
        "id": "tiPgYuLfvP7e",
        "colab_type": "code",
        "outputId": "6993c4c6-4c03-42c3-85af-4b5a23fdef05",
        "colab": {
          "base_uri": "https://localhost:8080/",
          "height": 202
        }
      },
      "source": [
        "#Mask on that boolean array to get only 2016\n",
        "(dogs[dogs['year'] == 2015]).head() "
      ],
      "execution_count": 0,
      "outputs": [
        {
          "output_type": "execute_result",
          "data": {
            "text/html": [
              "<div>\n",
              "<style scoped>\n",
              "    .dataframe tbody tr th:only-of-type {\n",
              "        vertical-align: middle;\n",
              "    }\n",
              "\n",
              "    .dataframe tbody tr th {\n",
              "        vertical-align: top;\n",
              "    }\n",
              "\n",
              "    .dataframe thead th {\n",
              "        text-align: right;\n",
              "    }\n",
              "</style>\n",
              "<table border=\"1\" class=\"dataframe\">\n",
              "  <thead>\n",
              "    <tr style=\"text-align: right;\">\n",
              "      <th></th>\n",
              "      <th>id</th>\n",
              "      <th>fee</th>\n",
              "      <th>exp_date</th>\n",
              "      <th>street</th>\n",
              "      <th>number</th>\n",
              "      <th>type</th>\n",
              "      <th>year</th>\n",
              "      <th>block</th>\n",
              "    </tr>\n",
              "  </thead>\n",
              "  <tbody>\n",
              "    <tr>\n",
              "      <th>0</th>\n",
              "      <td>1</td>\n",
              "      <td>4</td>\n",
              "      <td>2016-08-13T04:00:00.000Z</td>\n",
              "      <td>GROVE AVE</td>\n",
              "      <td>NaN</td>\n",
              "      <td>Unsexed - 1 Year</td>\n",
              "      <td>2016</td>\n",
              "      <td>1100.0</td>\n",
              "    </tr>\n",
              "    <tr>\n",
              "      <th>1</th>\n",
              "      <td>2</td>\n",
              "      <td>4</td>\n",
              "      <td>2017-03-15T04:00:00.000Z</td>\n",
              "      <td>SHERIDAN AVE</td>\n",
              "      <td>NaN</td>\n",
              "      <td>Unsexed - 1 Year</td>\n",
              "      <td>2016</td>\n",
              "      <td>1000.0</td>\n",
              "    </tr>\n",
              "    <tr>\n",
              "      <th>8</th>\n",
              "      <td>9</td>\n",
              "      <td>4</td>\n",
              "      <td>2019-03-14T04:00:00.000Z</td>\n",
              "      <td>TARLETON DR</td>\n",
              "      <td>3665.0</td>\n",
              "      <td>Unsexed - 1 Year</td>\n",
              "      <td>2016</td>\n",
              "      <td>2100.0</td>\n",
              "    </tr>\n",
              "    <tr>\n",
              "      <th>9</th>\n",
              "      <td>10</td>\n",
              "      <td>4</td>\n",
              "      <td>2018-03-03T05:00:00.000Z</td>\n",
              "      <td>RIVES ST</td>\n",
              "      <td>3704.0</td>\n",
              "      <td>Unsexed - 1 Year</td>\n",
              "      <td>2016</td>\n",
              "      <td>900.0</td>\n",
              "    </tr>\n",
              "    <tr>\n",
              "      <th>10</th>\n",
              "      <td>11</td>\n",
              "      <td>4</td>\n",
              "      <td>2020-09-07T04:00:00.000Z</td>\n",
              "      <td>CHESAPEAKE ST</td>\n",
              "      <td>4575.0</td>\n",
              "      <td>Unsexed - 1 Year</td>\n",
              "      <td>2016</td>\n",
              "      <td>1300.0</td>\n",
              "    </tr>\n",
              "  </tbody>\n",
              "</table>\n",
              "</div>"
            ],
            "text/plain": [
              "    id  fee                  exp_date  ...                       type  year   block\n",
              "0    1    4  2016-08-13T04:00:00.000Z  ...  Unsexed - 1 Year           2016  1100.0\n",
              "1    2    4  2017-03-15T04:00:00.000Z  ...  Unsexed - 1 Year           2016  1000.0\n",
              "8    9    4  2019-03-14T04:00:00.000Z  ...  Unsexed - 1 Year           2016  2100.0\n",
              "9   10    4  2018-03-03T05:00:00.000Z  ...  Unsexed - 1 Year           2016   900.0\n",
              "10  11    4  2020-09-07T04:00:00.000Z  ...  Unsexed - 1 Year           2016  1300.0\n",
              "\n",
              "[5 rows x 8 columns]"
            ]
          },
          "metadata": {
            "tags": []
          },
          "execution_count": 46
        }
      ]
    },
    {
      "cell_type": "markdown",
      "metadata": {
        "id": "rYg6DOBtwqjr",
        "colab_type": "text"
      },
      "source": [
        "You can do this with multiple conditionals. "
      ]
    },
    {
      "cell_type": "code",
      "metadata": {
        "id": "45aYzl8JvcJl",
        "colab_type": "code",
        "outputId": "2c6ba6fd-239a-468a-9dca-69263022f440",
        "colab": {
          "base_uri": "https://localhost:8080/",
          "height": 202
        }
      },
      "source": [
        "dogs[(dogs['year']==2015) & (dogs['fee']==4)].head()"
      ],
      "execution_count": 0,
      "outputs": [
        {
          "output_type": "execute_result",
          "data": {
            "text/html": [
              "<div>\n",
              "<style scoped>\n",
              "    .dataframe tbody tr th:only-of-type {\n",
              "        vertical-align: middle;\n",
              "    }\n",
              "\n",
              "    .dataframe tbody tr th {\n",
              "        vertical-align: top;\n",
              "    }\n",
              "\n",
              "    .dataframe thead th {\n",
              "        text-align: right;\n",
              "    }\n",
              "</style>\n",
              "<table border=\"1\" class=\"dataframe\">\n",
              "  <thead>\n",
              "    <tr style=\"text-align: right;\">\n",
              "      <th></th>\n",
              "      <th>id</th>\n",
              "      <th>fee</th>\n",
              "      <th>exp_date</th>\n",
              "      <th>street</th>\n",
              "      <th>number</th>\n",
              "      <th>type</th>\n",
              "      <th>year</th>\n",
              "      <th>block</th>\n",
              "    </tr>\n",
              "  </thead>\n",
              "  <tbody>\n",
              "    <tr>\n",
              "      <th>2</th>\n",
              "      <td>3</td>\n",
              "      <td>4</td>\n",
              "      <td>2016-10-25T04:00:00.000Z</td>\n",
              "      <td>GROVE AVE</td>\n",
              "      <td>0.0</td>\n",
              "      <td>Unsexed - 1 Year</td>\n",
              "      <td>2015</td>\n",
              "      <td>1000.0</td>\n",
              "    </tr>\n",
              "    <tr>\n",
              "      <th>4</th>\n",
              "      <td>5</td>\n",
              "      <td>4</td>\n",
              "      <td>2018-08-02T04:00:00.000Z</td>\n",
              "      <td>MADISON AVE</td>\n",
              "      <td>202.0</td>\n",
              "      <td>Unsexed - 1 Year</td>\n",
              "      <td>2015</td>\n",
              "      <td>700.0</td>\n",
              "    </tr>\n",
              "    <tr>\n",
              "      <th>5</th>\n",
              "      <td>6</td>\n",
              "      <td>4</td>\n",
              "      <td>2016-09-02T04:00:00.000Z</td>\n",
              "      <td>ARBOR CIR</td>\n",
              "      <td>3136.0</td>\n",
              "      <td>Unsexed - 1 Year</td>\n",
              "      <td>2015</td>\n",
              "      <td>400.0</td>\n",
              "    </tr>\n",
              "    <tr>\n",
              "      <th>30</th>\n",
              "      <td>31</td>\n",
              "      <td>4</td>\n",
              "      <td>2017-03-11T05:00:00.000Z</td>\n",
              "      <td>CITY WALK WAY</td>\n",
              "      <td>12504.0</td>\n",
              "      <td>Unsexed - 1 Year</td>\n",
              "      <td>2015</td>\n",
              "      <td>4100.0</td>\n",
              "    </tr>\n",
              "    <tr>\n",
              "      <th>5638</th>\n",
              "      <td>3639</td>\n",
              "      <td>4</td>\n",
              "      <td>2018-12-28T05:00:00.000Z</td>\n",
              "      <td>LITTLE HIGH ST</td>\n",
              "      <td>2505.0</td>\n",
              "      <td>Unsexed - 1 Year</td>\n",
              "      <td>2015</td>\n",
              "      <td>1100.0</td>\n",
              "    </tr>\n",
              "  </tbody>\n",
              "</table>\n",
              "</div>"
            ],
            "text/plain": [
              "        id  fee  ...  year   block\n",
              "2        3    4  ...  2015  1000.0\n",
              "4        5    4  ...  2015   700.0\n",
              "5        6    4  ...  2015   400.0\n",
              "30      31    4  ...  2015  4100.0\n",
              "5638  3639    4  ...  2015  1100.0\n",
              "\n",
              "[5 rows x 8 columns]"
            ]
          },
          "metadata": {
            "tags": []
          },
          "execution_count": 33
        }
      ]
    },
    {
      "cell_type": "markdown",
      "metadata": {
        "id": "ey5F2SXr9iXE",
        "colab_type": "text"
      },
      "source": [
        "## Sorting the DataFrame"
      ]
    },
    {
      "cell_type": "code",
      "metadata": {
        "id": "b-I7SHx3wyl-",
        "colab_type": "code",
        "outputId": "6406bf5b-6626-4db1-846a-dba5a78cce94",
        "colab": {
          "base_uri": "https://localhost:8080/",
          "height": 202
        }
      },
      "source": [
        "dogs.sort_values('fee').head()"
      ],
      "execution_count": 0,
      "outputs": [
        {
          "output_type": "execute_result",
          "data": {
            "text/html": [
              "<div>\n",
              "<style scoped>\n",
              "    .dataframe tbody tr th:only-of-type {\n",
              "        vertical-align: middle;\n",
              "    }\n",
              "\n",
              "    .dataframe tbody tr th {\n",
              "        vertical-align: top;\n",
              "    }\n",
              "\n",
              "    .dataframe thead th {\n",
              "        text-align: right;\n",
              "    }\n",
              "</style>\n",
              "<table border=\"1\" class=\"dataframe\">\n",
              "  <thead>\n",
              "    <tr style=\"text-align: right;\">\n",
              "      <th></th>\n",
              "      <th>id</th>\n",
              "      <th>fee</th>\n",
              "      <th>exp_date</th>\n",
              "      <th>street</th>\n",
              "      <th>number</th>\n",
              "      <th>type</th>\n",
              "      <th>year</th>\n",
              "      <th>block</th>\n",
              "    </tr>\n",
              "  </thead>\n",
              "  <tbody>\n",
              "    <tr>\n",
              "      <th>9214</th>\n",
              "      <td>9215</td>\n",
              "      <td>0</td>\n",
              "      <td>2018-05-29T04:00:00.000Z</td>\n",
              "      <td>CHESAPEAKE ST</td>\n",
              "      <td>38612.0</td>\n",
              "      <td>Service</td>\n",
              "      <td>2014</td>\n",
              "      <td>1300.0</td>\n",
              "    </tr>\n",
              "    <tr>\n",
              "      <th>6788</th>\n",
              "      <td>6789</td>\n",
              "      <td>0</td>\n",
              "      <td>2015-05-23T04:00:00.000Z</td>\n",
              "      <td>ORANGEDALE AVE</td>\n",
              "      <td>32157.0</td>\n",
              "      <td>Service</td>\n",
              "      <td>2014</td>\n",
              "      <td>700.0</td>\n",
              "    </tr>\n",
              "    <tr>\n",
              "      <th>11380</th>\n",
              "      <td>11381</td>\n",
              "      <td>0</td>\n",
              "      <td>2015-02-28T05:00:00.000Z</td>\n",
              "      <td>RUGBY AVE</td>\n",
              "      <td>41756.0</td>\n",
              "      <td>Service</td>\n",
              "      <td>2015</td>\n",
              "      <td>1400.0</td>\n",
              "    </tr>\n",
              "    <tr>\n",
              "      <th>5568</th>\n",
              "      <td>3569</td>\n",
              "      <td>0</td>\n",
              "      <td>2021-08-16T04:00:00.000Z</td>\n",
              "      <td>ALTAVISTA AVE</td>\n",
              "      <td>24732.0</td>\n",
              "      <td>Service</td>\n",
              "      <td>2011</td>\n",
              "      <td>900.0</td>\n",
              "    </tr>\n",
              "    <tr>\n",
              "      <th>923</th>\n",
              "      <td>924</td>\n",
              "      <td>0</td>\n",
              "      <td>2010-06-12T04:00:00.000Z</td>\n",
              "      <td>ALTAVISTA AVE</td>\n",
              "      <td>20364.0</td>\n",
              "      <td>Service</td>\n",
              "      <td>2010</td>\n",
              "      <td>900.0</td>\n",
              "    </tr>\n",
              "  </tbody>\n",
              "</table>\n",
              "</div>"
            ],
            "text/plain": [
              "          id  fee  ...  year   block\n",
              "9214    9215    0  ...  2014  1300.0\n",
              "6788    6789    0  ...  2014   700.0\n",
              "11380  11381    0  ...  2015  1400.0\n",
              "5568    3569    0  ...  2011   900.0\n",
              "923      924    0  ...  2010   900.0\n",
              "\n",
              "[5 rows x 8 columns]"
            ]
          },
          "metadata": {
            "tags": []
          },
          "execution_count": 38
        }
      ]
    },
    {
      "cell_type": "code",
      "metadata": {
        "id": "7rZrgyFlJ4by",
        "colab_type": "code",
        "outputId": "8de7af9f-cc61-414f-bb71-0b0fea2f7902",
        "colab": {
          "base_uri": "https://localhost:8080/",
          "height": 662
        }
      },
      "source": [
        "dogs_sorted = dogs.sort_values('street')\n",
        "dogs_sorted.head(20)"
      ],
      "execution_count": 0,
      "outputs": [
        {
          "output_type": "execute_result",
          "data": {
            "text/html": [
              "<div>\n",
              "<style scoped>\n",
              "    .dataframe tbody tr th:only-of-type {\n",
              "        vertical-align: middle;\n",
              "    }\n",
              "\n",
              "    .dataframe tbody tr th {\n",
              "        vertical-align: top;\n",
              "    }\n",
              "\n",
              "    .dataframe thead th {\n",
              "        text-align: right;\n",
              "    }\n",
              "</style>\n",
              "<table border=\"1\" class=\"dataframe\">\n",
              "  <thead>\n",
              "    <tr style=\"text-align: right;\">\n",
              "      <th></th>\n",
              "      <th>id</th>\n",
              "      <th>fee</th>\n",
              "      <th>exp_date</th>\n",
              "      <th>street</th>\n",
              "      <th>number</th>\n",
              "      <th>type</th>\n",
              "      <th>year</th>\n",
              "      <th>block</th>\n",
              "    </tr>\n",
              "  </thead>\n",
              "  <tbody>\n",
              "    <tr>\n",
              "      <th>2632</th>\n",
              "      <td>4633</td>\n",
              "      <td>4</td>\n",
              "      <td>2014-04-13T04:00:00.000Z</td>\n",
              "      <td>10 1/2 ST NW</td>\n",
              "      <td>26623.0</td>\n",
              "      <td>Unsexed - 1 Year</td>\n",
              "      <td>2011</td>\n",
              "      <td>300.0</td>\n",
              "    </tr>\n",
              "    <tr>\n",
              "      <th>18160</th>\n",
              "      <td>17824</td>\n",
              "      <td>10</td>\n",
              "      <td>2018-02-14T05:00:00.000Z</td>\n",
              "      <td>10 1/2 ST NW</td>\n",
              "      <td>55002.0</td>\n",
              "      <td>Lifetime dog tag</td>\n",
              "      <td>2018</td>\n",
              "      <td>3200.0</td>\n",
              "    </tr>\n",
              "    <tr>\n",
              "      <th>15125</th>\n",
              "      <td>15126</td>\n",
              "      <td>4</td>\n",
              "      <td>2020-04-12T04:00:00.000Z</td>\n",
              "      <td>10 1/2 ST NW</td>\n",
              "      <td>46924.0</td>\n",
              "      <td>Unsexed - 1 Year</td>\n",
              "      <td>2017</td>\n",
              "      <td>500.0</td>\n",
              "    </tr>\n",
              "    <tr>\n",
              "      <th>18265</th>\n",
              "      <td>17929</td>\n",
              "      <td>10</td>\n",
              "      <td>2020-04-12T04:00:00.000Z</td>\n",
              "      <td>10 1/2 ST NW</td>\n",
              "      <td>55108.0</td>\n",
              "      <td>Lifetime dog tag</td>\n",
              "      <td>2018</td>\n",
              "      <td>500.0</td>\n",
              "    </tr>\n",
              "    <tr>\n",
              "      <th>4344</th>\n",
              "      <td>5345</td>\n",
              "      <td>4</td>\n",
              "      <td>2020-10-05T04:00:00.000Z</td>\n",
              "      <td>10 1/2 ST NW</td>\n",
              "      <td>28702.0</td>\n",
              "      <td>Unsexed - 1 Year</td>\n",
              "      <td>2012</td>\n",
              "      <td>300.0</td>\n",
              "    </tr>\n",
              "    <tr>\n",
              "      <th>391</th>\n",
              "      <td>392</td>\n",
              "      <td>4</td>\n",
              "      <td>2011-03-31T04:00:00.000Z</td>\n",
              "      <td>10 1/2 ST NW</td>\n",
              "      <td>19071.0</td>\n",
              "      <td>Unsexed - 1 Year</td>\n",
              "      <td>2010</td>\n",
              "      <td>300.0</td>\n",
              "    </tr>\n",
              "    <tr>\n",
              "      <th>4209</th>\n",
              "      <td>5210</td>\n",
              "      <td>4</td>\n",
              "      <td>2014-04-13T04:00:00.000Z</td>\n",
              "      <td>10 1/2 ST NW</td>\n",
              "      <td>28563.0</td>\n",
              "      <td>Unsexed - 1 Year</td>\n",
              "      <td>2012</td>\n",
              "      <td>300.0</td>\n",
              "    </tr>\n",
              "    <tr>\n",
              "      <th>10963</th>\n",
              "      <td>10964</td>\n",
              "      <td>1</td>\n",
              "      <td>2015-09-24T04:00:00.000Z</td>\n",
              "      <td>10 1/2 ST NW</td>\n",
              "      <td>41028.0</td>\n",
              "      <td>Replacement</td>\n",
              "      <td>2014</td>\n",
              "      <td>3100.0</td>\n",
              "    </tr>\n",
              "    <tr>\n",
              "      <th>1344</th>\n",
              "      <td>2345</td>\n",
              "      <td>12</td>\n",
              "      <td>2020-04-12T04:00:00.000Z</td>\n",
              "      <td>10 1/2 ST NW</td>\n",
              "      <td>23158.0</td>\n",
              "      <td>Unsexed - 3 Year</td>\n",
              "      <td>2013</td>\n",
              "      <td>500.0</td>\n",
              "    </tr>\n",
              "    <tr>\n",
              "      <th>4614</th>\n",
              "      <td>5615</td>\n",
              "      <td>4</td>\n",
              "      <td>2015-09-24T04:00:00.000Z</td>\n",
              "      <td>10 1/2 ST NW</td>\n",
              "      <td>28975.0</td>\n",
              "      <td>Unsexed - 1 Year</td>\n",
              "      <td>2012</td>\n",
              "      <td>3100.0</td>\n",
              "    </tr>\n",
              "    <tr>\n",
              "      <th>3892</th>\n",
              "      <td>1893</td>\n",
              "      <td>12</td>\n",
              "      <td>2012-08-17T04:00:00.000Z</td>\n",
              "      <td>10 1/2 ST NW</td>\n",
              "      <td>21967.0</td>\n",
              "      <td>Unsexed - 3 Year</td>\n",
              "      <td>2012</td>\n",
              "      <td>300.0</td>\n",
              "    </tr>\n",
              "    <tr>\n",
              "      <th>11609</th>\n",
              "      <td>11610</td>\n",
              "      <td>4</td>\n",
              "      <td>2020-06-01T04:00:00.000Z</td>\n",
              "      <td>10 1/2 ST NW</td>\n",
              "      <td>41985.0</td>\n",
              "      <td>Unsexed - 1 Year</td>\n",
              "      <td>2015</td>\n",
              "      <td>300.0</td>\n",
              "    </tr>\n",
              "    <tr>\n",
              "      <th>8415</th>\n",
              "      <td>8416</td>\n",
              "      <td>12</td>\n",
              "      <td>2015-09-24T04:00:00.000Z</td>\n",
              "      <td>10 1/2 ST NW</td>\n",
              "      <td>36564.0</td>\n",
              "      <td>Unsexed - 3 Year</td>\n",
              "      <td>2015</td>\n",
              "      <td>3100.0</td>\n",
              "    </tr>\n",
              "    <tr>\n",
              "      <th>4871</th>\n",
              "      <td>5872</td>\n",
              "      <td>4</td>\n",
              "      <td>2020-06-01T04:00:00.000Z</td>\n",
              "      <td>10 1/2 ST NW</td>\n",
              "      <td>29239.0</td>\n",
              "      <td>Unsexed - 1 Year</td>\n",
              "      <td>2012</td>\n",
              "      <td>300.0</td>\n",
              "    </tr>\n",
              "    <tr>\n",
              "      <th>16500</th>\n",
              "      <td>16501</td>\n",
              "      <td>10</td>\n",
              "      <td>2018-11-09T05:00:00.000Z</td>\n",
              "      <td>10 1/2 ST NW</td>\n",
              "      <td>52841.0</td>\n",
              "      <td>Lifetime dog tag</td>\n",
              "      <td>2018</td>\n",
              "      <td>600.0</td>\n",
              "    </tr>\n",
              "    <tr>\n",
              "      <th>5827</th>\n",
              "      <td>3828</td>\n",
              "      <td>4</td>\n",
              "      <td>2011-03-31T04:00:00.000Z</td>\n",
              "      <td>10 1/2 ST NW</td>\n",
              "      <td>25290.0</td>\n",
              "      <td>Unsexed - 1 Year</td>\n",
              "      <td>2011</td>\n",
              "      <td>300.0</td>\n",
              "    </tr>\n",
              "    <tr>\n",
              "      <th>8921</th>\n",
              "      <td>8922</td>\n",
              "      <td>12</td>\n",
              "      <td>2020-10-05T04:00:00.000Z</td>\n",
              "      <td>10 1/2 ST NW</td>\n",
              "      <td>37319.0</td>\n",
              "      <td>Unsexed - 3 Year</td>\n",
              "      <td>2015</td>\n",
              "      <td>300.0</td>\n",
              "    </tr>\n",
              "    <tr>\n",
              "      <th>5513</th>\n",
              "      <td>3514</td>\n",
              "      <td>4</td>\n",
              "      <td>2020-10-05T04:00:00.000Z</td>\n",
              "      <td>10 1/2 ST NW</td>\n",
              "      <td>24578.0</td>\n",
              "      <td>Unsexed - 1 Year</td>\n",
              "      <td>2011</td>\n",
              "      <td>300.0</td>\n",
              "    </tr>\n",
              "    <tr>\n",
              "      <th>13267</th>\n",
              "      <td>13268</td>\n",
              "      <td>12</td>\n",
              "      <td>2018-02-14T05:00:00.000Z</td>\n",
              "      <td>10 1/2 ST NW</td>\n",
              "      <td>43972.0</td>\n",
              "      <td>Unsexed - 3 Year</td>\n",
              "      <td>2017</td>\n",
              "      <td>3200.0</td>\n",
              "    </tr>\n",
              "    <tr>\n",
              "      <th>8376</th>\n",
              "      <td>8377</td>\n",
              "      <td>12</td>\n",
              "      <td>2014-04-13T04:00:00.000Z</td>\n",
              "      <td>10 1/2 ST NW</td>\n",
              "      <td>36523.0</td>\n",
              "      <td>Unsexed - 3 Year</td>\n",
              "      <td>2015</td>\n",
              "      <td>300.0</td>\n",
              "    </tr>\n",
              "  </tbody>\n",
              "</table>\n",
              "</div>"
            ],
            "text/plain": [
              "          id  fee  ...  year   block\n",
              "2632    4633    4  ...  2011   300.0\n",
              "18160  17824   10  ...  2018  3200.0\n",
              "15125  15126    4  ...  2017   500.0\n",
              "18265  17929   10  ...  2018   500.0\n",
              "4344    5345    4  ...  2012   300.0\n",
              "391      392    4  ...  2010   300.0\n",
              "4209    5210    4  ...  2012   300.0\n",
              "10963  10964    1  ...  2014  3100.0\n",
              "1344    2345   12  ...  2013   500.0\n",
              "4614    5615    4  ...  2012  3100.0\n",
              "3892    1893   12  ...  2012   300.0\n",
              "11609  11610    4  ...  2015   300.0\n",
              "8415    8416   12  ...  2015  3100.0\n",
              "4871    5872    4  ...  2012   300.0\n",
              "16500  16501   10  ...  2018   600.0\n",
              "5827    3828    4  ...  2011   300.0\n",
              "8921    8922   12  ...  2015   300.0\n",
              "5513    3514    4  ...  2011   300.0\n",
              "13267  13268   12  ...  2017  3200.0\n",
              "8376    8377   12  ...  2015   300.0\n",
              "\n",
              "[20 rows x 8 columns]"
            ]
          },
          "metadata": {
            "tags": []
          },
          "execution_count": 41
        }
      ]
    },
    {
      "cell_type": "markdown",
      "metadata": {
        "id": "xpRcIfqHFFe7",
        "colab_type": "text"
      },
      "source": [
        "Specify a list of columns to sort by them in order. Sort the df first by year, then by fee within year."
      ]
    },
    {
      "cell_type": "code",
      "metadata": {
        "id": "TuYOyISHE-JS",
        "colab_type": "code",
        "outputId": "ce65e445-4830-42ae-fac6-1120a9af5cde",
        "colab": {
          "base_uri": "https://localhost:8080/",
          "height": 202
        }
      },
      "source": [
        "dogs_multi_sort = dogs.sort_values(['year', 'fee'])\n",
        "dogs_multi_sort.head()"
      ],
      "execution_count": 0,
      "outputs": [
        {
          "output_type": "execute_result",
          "data": {
            "text/html": [
              "<div>\n",
              "<style scoped>\n",
              "    .dataframe tbody tr th:only-of-type {\n",
              "        vertical-align: middle;\n",
              "    }\n",
              "\n",
              "    .dataframe tbody tr th {\n",
              "        vertical-align: top;\n",
              "    }\n",
              "\n",
              "    .dataframe thead th {\n",
              "        text-align: right;\n",
              "    }\n",
              "</style>\n",
              "<table border=\"1\" class=\"dataframe\">\n",
              "  <thead>\n",
              "    <tr style=\"text-align: right;\">\n",
              "      <th></th>\n",
              "      <th>id</th>\n",
              "      <th>fee</th>\n",
              "      <th>exp_date</th>\n",
              "      <th>street</th>\n",
              "      <th>number</th>\n",
              "      <th>type</th>\n",
              "      <th>year</th>\n",
              "      <th>block</th>\n",
              "    </tr>\n",
              "  </thead>\n",
              "  <tbody>\n",
              "    <tr>\n",
              "      <th>39</th>\n",
              "      <td>40</td>\n",
              "      <td>4</td>\n",
              "      <td>2010-12-03T05:00:00.000Z</td>\n",
              "      <td>ST CLAIR AVE</td>\n",
              "      <td>16806.0</td>\n",
              "      <td>Unsexed - 1 Year</td>\n",
              "      <td>2009</td>\n",
              "      <td>800.0</td>\n",
              "    </tr>\n",
              "    <tr>\n",
              "      <th>41</th>\n",
              "      <td>42</td>\n",
              "      <td>4</td>\n",
              "      <td>2015-02-12T05:00:00.000Z</td>\n",
              "      <td>MONTE VISTA AVE</td>\n",
              "      <td>17544.0</td>\n",
              "      <td>Unsexed - 1 Year</td>\n",
              "      <td>2009</td>\n",
              "      <td>200.0</td>\n",
              "    </tr>\n",
              "    <tr>\n",
              "      <th>923</th>\n",
              "      <td>924</td>\n",
              "      <td>0</td>\n",
              "      <td>2010-06-12T04:00:00.000Z</td>\n",
              "      <td>ALTAVISTA AVE</td>\n",
              "      <td>20364.0</td>\n",
              "      <td>Service</td>\n",
              "      <td>2010</td>\n",
              "      <td>900.0</td>\n",
              "    </tr>\n",
              "    <tr>\n",
              "      <th>903</th>\n",
              "      <td>904</td>\n",
              "      <td>1</td>\n",
              "      <td>2016-12-27T05:00:00.000Z</td>\n",
              "      <td>UNIVERSITY CIR</td>\n",
              "      <td>20344.0</td>\n",
              "      <td>Replacement</td>\n",
              "      <td>2010</td>\n",
              "      <td>0.0</td>\n",
              "    </tr>\n",
              "    <tr>\n",
              "      <th>906</th>\n",
              "      <td>907</td>\n",
              "      <td>1</td>\n",
              "      <td>2017-07-16T04:00:00.000Z</td>\n",
              "      <td>ESSEX RD</td>\n",
              "      <td>20347.0</td>\n",
              "      <td>Replacement</td>\n",
              "      <td>2010</td>\n",
              "      <td>1700.0</td>\n",
              "    </tr>\n",
              "  </tbody>\n",
              "</table>\n",
              "</div>"
            ],
            "text/plain": [
              "      id  fee  ...  year   block\n",
              "39    40    4  ...  2009   800.0\n",
              "41    42    4  ...  2009   200.0\n",
              "923  924    0  ...  2010   900.0\n",
              "903  904    1  ...  2010     0.0\n",
              "906  907    1  ...  2010  1700.0\n",
              "\n",
              "[5 rows x 8 columns]"
            ]
          },
          "metadata": {
            "tags": []
          },
          "execution_count": 44
        }
      ]
    },
    {
      "cell_type": "markdown",
      "metadata": {
        "id": "LLHAcWPrFqD_",
        "colab_type": "text"
      },
      "source": [
        "### Value counts\n",
        "Returns a list of how many observations in a dataframe have each value of a certain variable. \n",
        "\n",
        "Takes a pandas *series*, not a dataframe"
      ]
    },
    {
      "cell_type": "code",
      "metadata": {
        "id": "PImAl36OFeOW",
        "colab_type": "code",
        "outputId": "ae340ccb-a307-46e3-e193-2cd4ab2b5720",
        "colab": {
          "base_uri": "https://localhost:8080/",
          "height": 208
        }
      },
      "source": [
        "dogs['type'].value_counts()\n"
      ],
      "execution_count": 0,
      "outputs": [
        {
          "output_type": "execute_result",
          "data": {
            "text/plain": [
              "Unsexed - 1 Year             10017\n",
              "Unsexed - 3 Year              4766\n",
              "Lifetime dog tag              1973\n",
              "Sexed - 1 Year                1304\n",
              "Sexed - 3 Year                 155\n",
              "Replacement                    109\n",
              "Service                          8\n",
              "Dangerous Dog Regis.             3\n",
              "Female                           1\n",
              "Dangerous Dog Renewal            1\n",
              "Name: type, dtype: int64"
            ]
          },
          "metadata": {
            "tags": []
          },
          "execution_count": 45
        }
      ]
    },
    {
      "cell_type": "markdown",
      "metadata": {
        "id": "l2qo9MLeGSVS",
        "colab_type": "text"
      },
      "source": [
        "## Chaining  \n",
        "The example below is nonsensical in terms of its actual function - it is really just equivalent to taking fee value counts and can thus be accomplished in much less code, but is to show that you can use these functions/operations together to perform multiple in one line, moving from left to right.\n",
        "\n",
        "This will be especially useful when we talk about data cleaning and string processing."
      ]
    },
    {
      "cell_type": "code",
      "metadata": {
        "id": "e-HYafnxF8N3",
        "colab_type": "code",
        "outputId": "42485a06-b365-4966-ba63-27263a158633",
        "colab": {
          "base_uri": "https://localhost:8080/",
          "height": 121
        }
      },
      "source": [
        "#Expand\n",
        "dogs_chained_functions = dogs.sort_values('year')['fee'].value_counts().head()\n",
        "dogs_chained_functions"
      ],
      "execution_count": 0,
      "outputs": [
        {
          "output_type": "execute_result",
          "data": {
            "text/plain": [
              "4     10017\n",
              "12     4766\n",
              "10     3278\n",
              "30      155\n",
              "1       109\n",
              "Name: fee, dtype: int64"
            ]
          },
          "metadata": {
            "tags": []
          },
          "execution_count": 16
        }
      ]
    },
    {
      "cell_type": "markdown",
      "metadata": {
        "id": "Z5SbzZqWH287",
        "colab_type": "text"
      },
      "source": [
        "# Modifying and creating columns\n",
        "\n",
        "We can perform simple vectorized math operations on columns to create new ones. \n",
        "\n",
        "For instance, if Charlottesville decided to reduce the fees for dog tags by 50%, we could do the following:"
      ]
    },
    {
      "cell_type": "code",
      "metadata": {
        "id": "JYLqRc2uH2Jr",
        "colab_type": "code",
        "outputId": "0388f52d-c041-4432-e4a0-fc4e8af60017",
        "colab": {
          "base_uri": "https://localhost:8080/",
          "height": 202
        }
      },
      "source": [
        "dogs['reduced_fee'] = 0.5 * dogs['fee']\n",
        "dogs.head()"
      ],
      "execution_count": 0,
      "outputs": [
        {
          "output_type": "execute_result",
          "data": {
            "text/html": [
              "<div>\n",
              "<style scoped>\n",
              "    .dataframe tbody tr th:only-of-type {\n",
              "        vertical-align: middle;\n",
              "    }\n",
              "\n",
              "    .dataframe tbody tr th {\n",
              "        vertical-align: top;\n",
              "    }\n",
              "\n",
              "    .dataframe thead th {\n",
              "        text-align: right;\n",
              "    }\n",
              "</style>\n",
              "<table border=\"1\" class=\"dataframe\">\n",
              "  <thead>\n",
              "    <tr style=\"text-align: right;\">\n",
              "      <th></th>\n",
              "      <th>id</th>\n",
              "      <th>fee</th>\n",
              "      <th>exp_date</th>\n",
              "      <th>street</th>\n",
              "      <th>number</th>\n",
              "      <th>type</th>\n",
              "      <th>year</th>\n",
              "      <th>block</th>\n",
              "      <th>reduced_fee</th>\n",
              "    </tr>\n",
              "  </thead>\n",
              "  <tbody>\n",
              "    <tr>\n",
              "      <th>0</th>\n",
              "      <td>1</td>\n",
              "      <td>4</td>\n",
              "      <td>2016-08-13T04:00:00.000Z</td>\n",
              "      <td>GROVE AVE</td>\n",
              "      <td>NaN</td>\n",
              "      <td>Unsexed - 1 Year</td>\n",
              "      <td>2016</td>\n",
              "      <td>1100.0</td>\n",
              "      <td>2.0</td>\n",
              "    </tr>\n",
              "    <tr>\n",
              "      <th>1</th>\n",
              "      <td>2</td>\n",
              "      <td>4</td>\n",
              "      <td>2017-03-15T04:00:00.000Z</td>\n",
              "      <td>SHERIDAN AVE</td>\n",
              "      <td>NaN</td>\n",
              "      <td>Unsexed - 1 Year</td>\n",
              "      <td>2016</td>\n",
              "      <td>1000.0</td>\n",
              "      <td>2.0</td>\n",
              "    </tr>\n",
              "    <tr>\n",
              "      <th>2</th>\n",
              "      <td>3</td>\n",
              "      <td>4</td>\n",
              "      <td>2016-10-25T04:00:00.000Z</td>\n",
              "      <td>GROVE AVE</td>\n",
              "      <td>0.0</td>\n",
              "      <td>Unsexed - 1 Year</td>\n",
              "      <td>2015</td>\n",
              "      <td>1000.0</td>\n",
              "      <td>2.0</td>\n",
              "    </tr>\n",
              "    <tr>\n",
              "      <th>3</th>\n",
              "      <td>4</td>\n",
              "      <td>12</td>\n",
              "      <td>2016-07-04T04:00:00.000Z</td>\n",
              "      <td>DRUID AVE</td>\n",
              "      <td>54.0</td>\n",
              "      <td>Unsexed - 3 Year</td>\n",
              "      <td>2013</td>\n",
              "      <td>11000.0</td>\n",
              "      <td>6.0</td>\n",
              "    </tr>\n",
              "    <tr>\n",
              "      <th>4</th>\n",
              "      <td>5</td>\n",
              "      <td>4</td>\n",
              "      <td>2018-08-02T04:00:00.000Z</td>\n",
              "      <td>MADISON AVE</td>\n",
              "      <td>202.0</td>\n",
              "      <td>Unsexed - 1 Year</td>\n",
              "      <td>2015</td>\n",
              "      <td>700.0</td>\n",
              "      <td>2.0</td>\n",
              "    </tr>\n",
              "  </tbody>\n",
              "</table>\n",
              "</div>"
            ],
            "text/plain": [
              "   id  fee                  exp_date  ...  year    block reduced_fee\n",
              "0   1    4  2016-08-13T04:00:00.000Z  ...  2016   1100.0         2.0\n",
              "1   2    4  2017-03-15T04:00:00.000Z  ...  2016   1000.0         2.0\n",
              "2   3    4  2016-10-25T04:00:00.000Z  ...  2015   1000.0         2.0\n",
              "3   4   12  2016-07-04T04:00:00.000Z  ...  2013  11000.0         6.0\n",
              "4   5    4  2018-08-02T04:00:00.000Z  ...  2015    700.0         2.0\n",
              "\n",
              "[5 rows x 9 columns]"
            ]
          },
          "metadata": {
            "tags": []
          },
          "execution_count": 46
        }
      ]
    }
  ]
}