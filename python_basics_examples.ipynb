{
  "nbformat": 4,
  "nbformat_minor": 0,
  "metadata": {
    "colab": {
      "name": "python-basics-examples.ipynb",
      "version": "0.3.2",
      "provenance": [],
      "include_colab_link": true
    },
    "kernelspec": {
      "name": "python3",
      "display_name": "Python 3"
    }
  },
  "cells": [
    {
      "cell_type": "markdown",
      "metadata": {
        "id": "view-in-github",
        "colab_type": "text"
      },
      "source": [
        "<a href=\"https://colab.research.google.com/github/ckalibsnelson/Node-Lite/blob/master/python_basics_examples.ipynb\" target=\"_parent\"><img src=\"https://colab.research.google.com/assets/colab-badge.svg\" alt=\"Open In Colab\"/></a>"
      ]
    },
    {
      "cell_type": "code",
      "metadata": {
        "id": "eIpX7B-19MgP",
        "colab_type": "code",
        "colab": {
          "base_uri": "https://localhost:8080/",
          "height": 33
        },
        "outputId": "01ae0675-5995-4b28-885d-008cb3338659"
      },
      "source": [
        "#hello, world!\n",
        "\n",
        "print(\"hello, world!\")"
      ],
      "execution_count": 1,
      "outputs": [
        {
          "output_type": "stream",
          "text": [
            "hello, world!\n"
          ],
          "name": "stdout"
        }
      ]
    },
    {
      "cell_type": "code",
      "metadata": {
        "id": "9HtKcHDL-hN4",
        "colab_type": "code",
        "colab": {}
      },
      "source": [
        "#variables -- create three variables of different types (int, string, float, list maybe?)\n",
        "\n",
        "my_int = 4\n",
        "my_float = 3.0\n",
        "my_str = 'hello!'\n",
        "my_list = ['apple', 'orange', 'banana']"
      ],
      "execution_count": 0,
      "outputs": []
    },
    {
      "cell_type": "code",
      "metadata": {
        "id": "ar1xjkp2-9at",
        "colab_type": "code",
        "colab": {
          "base_uri": "https://localhost:8080/",
          "height": 132
        },
        "outputId": "106e373c-d42f-4e97-a750-6d87454a25c0"
      },
      "source": [
        "#operations\n",
        "\n",
        "#addition, subtraction, and multiplication\n",
        "print(3+4)\n",
        "print(5-2)\n",
        "print(4*2)\n",
        "\n",
        "#exponents\n",
        "print(3**2)\n",
        "\n",
        "#division (3 types!)\n",
        "#regular\n",
        "print(9/2)     #should be 4.5\n",
        "#floor\n",
        "print(9//2)    #should be 4\n",
        "#modulo (mod)\n",
        "print(9%2)     #should be 1\n"
      ],
      "execution_count": 3,
      "outputs": [
        {
          "output_type": "stream",
          "text": [
            "7\n",
            "3\n",
            "8\n",
            "9\n",
            "4.5\n",
            "4\n",
            "1\n"
          ],
          "name": "stdout"
        }
      ]
    },
    {
      "cell_type": "code",
      "metadata": {
        "id": "eOZ5cnfU-4j0",
        "colab_type": "code",
        "outputId": "5480d491-d60e-4e17-fab7-5e2b17b86028",
        "colab": {
          "base_uri": "https://localhost:8080/",
          "height": 33
        }
      },
      "source": [
        "#conditionals\n",
        "\n",
        "answer = False\n",
        "\n",
        "if (answer):\n",
        "  print('yes')\n",
        "else:\n",
        "  print('no')"
      ],
      "execution_count": 4,
      "outputs": [
        {
          "output_type": "stream",
          "text": [
            "no\n"
          ],
          "name": "stdout"
        }
      ]
    },
    {
      "cell_type": "code",
      "metadata": {
        "id": "jBfh4Lu7--_H",
        "colab_type": "code",
        "outputId": "ec61587e-a769-4fec-f814-abeb54090ae3",
        "colab": {
          "base_uri": "https://localhost:8080/",
          "height": 99
        }
      },
      "source": [
        "#loops\n",
        "\n",
        "for x in range (5):\n",
        "  print(\"this should print 5 times\")"
      ],
      "execution_count": 5,
      "outputs": [
        {
          "output_type": "stream",
          "text": [
            "this should print 5 times\n",
            "this should print 5 times\n",
            "this should print 5 times\n",
            "this should print 5 times\n",
            "this should print 5 times\n"
          ],
          "name": "stdout"
        }
      ]
    },
    {
      "cell_type": "code",
      "metadata": {
        "id": "mFob6b5xvhqV",
        "colab_type": "code",
        "colab": {}
      },
      "source": [
        ""
      ],
      "execution_count": 0,
      "outputs": []
    }
  ]
}