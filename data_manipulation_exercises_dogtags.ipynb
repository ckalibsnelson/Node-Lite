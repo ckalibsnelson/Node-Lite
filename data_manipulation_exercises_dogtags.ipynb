{
  "nbformat": 4,
  "nbformat_minor": 0,
  "metadata": {
    "colab": {
      "name": "data_manipulation_exercises_dogtags.ipynb",
      "provenance": [],
      "include_colab_link": true
    },
    "kernelspec": {
      "name": "python3",
      "display_name": "Python 3"
    }
  },
  "cells": [
    {
      "cell_type": "markdown",
      "metadata": {
        "id": "view-in-github",
        "colab_type": "text"
      },
      "source": [
        "<a href=\"https://colab.research.google.com/github/ckalibsnelson/Node-Lite/blob/master/data_manipulation_exercises_dogtags.ipynb\" target=\"_parent\"><img src=\"https://colab.research.google.com/assets/colab-badge.svg\" alt=\"Open In Colab\"/></a>"
      ]
    },
    {
      "cell_type": "markdown",
      "metadata": {
        "id": "jha9k4AzuXen",
        "colab_type": "text"
      },
      "source": [
        "# Dog Tags Exercises\n",
        "\n",
        "If you want to work on these on your own go to File -> Save a copy in Drive... to work on these exercises for yourself.\n",
        "\n",
        "If you want to find where the file was saved in your drive use File -> Locate in Drive"
      ]
    },
    {
      "cell_type": "code",
      "metadata": {
        "id": "-KcEwPsVf0xC",
        "colab_type": "code",
        "colab": {}
      },
      "source": [
        "import pandas as pd"
      ],
      "execution_count": 0,
      "outputs": []
    },
    {
      "cell_type": "code",
      "metadata": {
        "id": "CU_hGNfyf5GE",
        "colab_type": "code",
        "outputId": "4c4e79ac-0fc7-4daf-eaad-9ebc835f212d",
        "colab": {
          "base_uri": "https://localhost:8080/",
          "height": 204
        }
      },
      "source": [
        "#Change header\n",
        "dogs = pd.read_csv('https://raw.githubusercontent.com/benartuso/nodef19/master/data/01-intro-to-pandas/dog_tags.csv', header = 0)\n",
        "dogs.head()"
      ],
      "execution_count": 0,
      "outputs": [
        {
          "output_type": "execute_result",
          "data": {
            "text/html": [
              "<div>\n",
              "<style scoped>\n",
              "    .dataframe tbody tr th:only-of-type {\n",
              "        vertical-align: middle;\n",
              "    }\n",
              "\n",
              "    .dataframe tbody tr th {\n",
              "        vertical-align: top;\n",
              "    }\n",
              "\n",
              "    .dataframe thead th {\n",
              "        text-align: right;\n",
              "    }\n",
              "</style>\n",
              "<table border=\"1\" class=\"dataframe\">\n",
              "  <thead>\n",
              "    <tr style=\"text-align: right;\">\n",
              "      <th></th>\n",
              "      <th>RecordID</th>\n",
              "      <th>FeeAmount</th>\n",
              "      <th>RabiesExpirationDate</th>\n",
              "      <th>StreetName</th>\n",
              "      <th>TagNumber</th>\n",
              "      <th>TagType</th>\n",
              "      <th>TagYear</th>\n",
              "      <th>BlockNumber</th>\n",
              "    </tr>\n",
              "  </thead>\n",
              "  <tbody>\n",
              "    <tr>\n",
              "      <th>0</th>\n",
              "      <td>1</td>\n",
              "      <td>4</td>\n",
              "      <td>2016-08-13T04:00:00.000Z</td>\n",
              "      <td>GROVE AVE</td>\n",
              "      <td>NaN</td>\n",
              "      <td>Unsexed - 1 Year</td>\n",
              "      <td>2016</td>\n",
              "      <td>1100.0</td>\n",
              "    </tr>\n",
              "    <tr>\n",
              "      <th>1</th>\n",
              "      <td>2</td>\n",
              "      <td>4</td>\n",
              "      <td>2017-03-15T04:00:00.000Z</td>\n",
              "      <td>SHERIDAN AVE</td>\n",
              "      <td>NaN</td>\n",
              "      <td>Unsexed - 1 Year</td>\n",
              "      <td>2016</td>\n",
              "      <td>1000.0</td>\n",
              "    </tr>\n",
              "    <tr>\n",
              "      <th>2</th>\n",
              "      <td>3</td>\n",
              "      <td>4</td>\n",
              "      <td>2016-10-25T04:00:00.000Z</td>\n",
              "      <td>GROVE AVE</td>\n",
              "      <td>0.0</td>\n",
              "      <td>Unsexed - 1 Year</td>\n",
              "      <td>2015</td>\n",
              "      <td>1000.0</td>\n",
              "    </tr>\n",
              "    <tr>\n",
              "      <th>3</th>\n",
              "      <td>4</td>\n",
              "      <td>12</td>\n",
              "      <td>2016-07-04T04:00:00.000Z</td>\n",
              "      <td>DRUID AVE</td>\n",
              "      <td>54.0</td>\n",
              "      <td>Unsexed - 3 Year</td>\n",
              "      <td>2013</td>\n",
              "      <td>11000.0</td>\n",
              "    </tr>\n",
              "    <tr>\n",
              "      <th>4</th>\n",
              "      <td>5</td>\n",
              "      <td>4</td>\n",
              "      <td>2018-08-02T04:00:00.000Z</td>\n",
              "      <td>MADISON AVE</td>\n",
              "      <td>202.0</td>\n",
              "      <td>Unsexed - 1 Year</td>\n",
              "      <td>2015</td>\n",
              "      <td>700.0</td>\n",
              "    </tr>\n",
              "  </tbody>\n",
              "</table>\n",
              "</div>"
            ],
            "text/plain": [
              "   RecordID  FeeAmount  ... TagYear BlockNumber\n",
              "0         1          4  ...    2016      1100.0\n",
              "1         2          4  ...    2016      1000.0\n",
              "2         3          4  ...    2015      1000.0\n",
              "3         4         12  ...    2013     11000.0\n",
              "4         5          4  ...    2015       700.0\n",
              "\n",
              "[5 rows x 8 columns]"
            ]
          },
          "metadata": {
            "tags": []
          },
          "execution_count": 2
        }
      ]
    },
    {
      "cell_type": "code",
      "metadata": {
        "id": "EfZKBCE4kuhn",
        "colab_type": "code",
        "outputId": "0679ece0-394a-4247-b6e2-9c3a08148dd3",
        "colab": {
          "base_uri": "https://localhost:8080/",
          "height": 204
        }
      },
      "source": [
        "#renaming columns\n",
        "dogs.columns = ['id', 'fee', 'exp_date', 'street', 'number', 'type', 'year', 'block']\n",
        "dogs.head(5)"
      ],
      "execution_count": 0,
      "outputs": [
        {
          "output_type": "execute_result",
          "data": {
            "text/html": [
              "<div>\n",
              "<style scoped>\n",
              "    .dataframe tbody tr th:only-of-type {\n",
              "        vertical-align: middle;\n",
              "    }\n",
              "\n",
              "    .dataframe tbody tr th {\n",
              "        vertical-align: top;\n",
              "    }\n",
              "\n",
              "    .dataframe thead th {\n",
              "        text-align: right;\n",
              "    }\n",
              "</style>\n",
              "<table border=\"1\" class=\"dataframe\">\n",
              "  <thead>\n",
              "    <tr style=\"text-align: right;\">\n",
              "      <th></th>\n",
              "      <th>id</th>\n",
              "      <th>fee</th>\n",
              "      <th>exp_date</th>\n",
              "      <th>street</th>\n",
              "      <th>number</th>\n",
              "      <th>type</th>\n",
              "      <th>year</th>\n",
              "      <th>block</th>\n",
              "    </tr>\n",
              "  </thead>\n",
              "  <tbody>\n",
              "    <tr>\n",
              "      <th>0</th>\n",
              "      <td>1</td>\n",
              "      <td>4</td>\n",
              "      <td>2016-08-13T04:00:00.000Z</td>\n",
              "      <td>GROVE AVE</td>\n",
              "      <td>NaN</td>\n",
              "      <td>Unsexed - 1 Year</td>\n",
              "      <td>2016</td>\n",
              "      <td>1100.0</td>\n",
              "    </tr>\n",
              "    <tr>\n",
              "      <th>1</th>\n",
              "      <td>2</td>\n",
              "      <td>4</td>\n",
              "      <td>2017-03-15T04:00:00.000Z</td>\n",
              "      <td>SHERIDAN AVE</td>\n",
              "      <td>NaN</td>\n",
              "      <td>Unsexed - 1 Year</td>\n",
              "      <td>2016</td>\n",
              "      <td>1000.0</td>\n",
              "    </tr>\n",
              "    <tr>\n",
              "      <th>2</th>\n",
              "      <td>3</td>\n",
              "      <td>4</td>\n",
              "      <td>2016-10-25T04:00:00.000Z</td>\n",
              "      <td>GROVE AVE</td>\n",
              "      <td>0.0</td>\n",
              "      <td>Unsexed - 1 Year</td>\n",
              "      <td>2015</td>\n",
              "      <td>1000.0</td>\n",
              "    </tr>\n",
              "    <tr>\n",
              "      <th>3</th>\n",
              "      <td>4</td>\n",
              "      <td>12</td>\n",
              "      <td>2016-07-04T04:00:00.000Z</td>\n",
              "      <td>DRUID AVE</td>\n",
              "      <td>54.0</td>\n",
              "      <td>Unsexed - 3 Year</td>\n",
              "      <td>2013</td>\n",
              "      <td>11000.0</td>\n",
              "    </tr>\n",
              "    <tr>\n",
              "      <th>4</th>\n",
              "      <td>5</td>\n",
              "      <td>4</td>\n",
              "      <td>2018-08-02T04:00:00.000Z</td>\n",
              "      <td>MADISON AVE</td>\n",
              "      <td>202.0</td>\n",
              "      <td>Unsexed - 1 Year</td>\n",
              "      <td>2015</td>\n",
              "      <td>700.0</td>\n",
              "    </tr>\n",
              "  </tbody>\n",
              "</table>\n",
              "</div>"
            ],
            "text/plain": [
              "   id  fee                  exp_date  ...                       type  year    block\n",
              "0   1    4  2016-08-13T04:00:00.000Z  ...  Unsexed - 1 Year           2016   1100.0\n",
              "1   2    4  2017-03-15T04:00:00.000Z  ...  Unsexed - 1 Year           2016   1000.0\n",
              "2   3    4  2016-10-25T04:00:00.000Z  ...  Unsexed - 1 Year           2015   1000.0\n",
              "3   4   12  2016-07-04T04:00:00.000Z  ...  Unsexed - 3 Year           2013  11000.0\n",
              "4   5    4  2018-08-02T04:00:00.000Z  ...  Unsexed - 1 Year           2015    700.0\n",
              "\n",
              "[5 rows x 8 columns]"
            ]
          },
          "metadata": {
            "tags": []
          },
          "execution_count": 5
        }
      ]
    },
    {
      "cell_type": "markdown",
      "metadata": {
        "id": "VMq6iDrsgg7_",
        "colab_type": "text"
      },
      "source": [
        "# Pandas Exercises\n",
        "\n",
        "\n",
        "1.   How many tags are given for each year? \n",
        "2.   How much money was spent in 2015 on dog tags?\n",
        "3.   Use the .describe() function on the dataframe. What do you see? Why do you think some columns don't have means/other summary stats? Write this in a comment.\n",
        "\n",
        "\n",
        "\n"
      ]
    },
    {
      "cell_type": "code",
      "metadata": {
        "id": "3sA24kxsf73D",
        "colab_type": "code",
        "outputId": "7f91f791-2356-4c8f-ef88-1a7491d3e9c3",
        "colab": {
          "base_uri": "https://localhost:8080/",
          "height": 204
        }
      },
      "source": [
        "dogs.head()"
      ],
      "execution_count": 0,
      "outputs": [
        {
          "output_type": "execute_result",
          "data": {
            "text/html": [
              "<div>\n",
              "<style scoped>\n",
              "    .dataframe tbody tr th:only-of-type {\n",
              "        vertical-align: middle;\n",
              "    }\n",
              "\n",
              "    .dataframe tbody tr th {\n",
              "        vertical-align: top;\n",
              "    }\n",
              "\n",
              "    .dataframe thead th {\n",
              "        text-align: right;\n",
              "    }\n",
              "</style>\n",
              "<table border=\"1\" class=\"dataframe\">\n",
              "  <thead>\n",
              "    <tr style=\"text-align: right;\">\n",
              "      <th></th>\n",
              "      <th>id</th>\n",
              "      <th>fee</th>\n",
              "      <th>exp_date</th>\n",
              "      <th>street</th>\n",
              "      <th>number</th>\n",
              "      <th>type</th>\n",
              "      <th>year</th>\n",
              "      <th>block</th>\n",
              "    </tr>\n",
              "  </thead>\n",
              "  <tbody>\n",
              "    <tr>\n",
              "      <th>0</th>\n",
              "      <td>1</td>\n",
              "      <td>4</td>\n",
              "      <td>2016-08-13T04:00:00.000Z</td>\n",
              "      <td>GROVE AVE</td>\n",
              "      <td>NaN</td>\n",
              "      <td>Unsexed - 1 Year</td>\n",
              "      <td>2016</td>\n",
              "      <td>1100.0</td>\n",
              "    </tr>\n",
              "    <tr>\n",
              "      <th>1</th>\n",
              "      <td>2</td>\n",
              "      <td>4</td>\n",
              "      <td>2017-03-15T04:00:00.000Z</td>\n",
              "      <td>SHERIDAN AVE</td>\n",
              "      <td>NaN</td>\n",
              "      <td>Unsexed - 1 Year</td>\n",
              "      <td>2016</td>\n",
              "      <td>1000.0</td>\n",
              "    </tr>\n",
              "    <tr>\n",
              "      <th>2</th>\n",
              "      <td>3</td>\n",
              "      <td>4</td>\n",
              "      <td>2016-10-25T04:00:00.000Z</td>\n",
              "      <td>GROVE AVE</td>\n",
              "      <td>0.0</td>\n",
              "      <td>Unsexed - 1 Year</td>\n",
              "      <td>2015</td>\n",
              "      <td>1000.0</td>\n",
              "    </tr>\n",
              "    <tr>\n",
              "      <th>3</th>\n",
              "      <td>4</td>\n",
              "      <td>12</td>\n",
              "      <td>2016-07-04T04:00:00.000Z</td>\n",
              "      <td>DRUID AVE</td>\n",
              "      <td>54.0</td>\n",
              "      <td>Unsexed - 3 Year</td>\n",
              "      <td>2013</td>\n",
              "      <td>11000.0</td>\n",
              "    </tr>\n",
              "    <tr>\n",
              "      <th>4</th>\n",
              "      <td>5</td>\n",
              "      <td>4</td>\n",
              "      <td>2018-08-02T04:00:00.000Z</td>\n",
              "      <td>MADISON AVE</td>\n",
              "      <td>202.0</td>\n",
              "      <td>Unsexed - 1 Year</td>\n",
              "      <td>2015</td>\n",
              "      <td>700.0</td>\n",
              "    </tr>\n",
              "  </tbody>\n",
              "</table>\n",
              "</div>"
            ],
            "text/plain": [
              "   id  fee                  exp_date  ...                       type  year    block\n",
              "0   1    4  2016-08-13T04:00:00.000Z  ...  Unsexed - 1 Year           2016   1100.0\n",
              "1   2    4  2017-03-15T04:00:00.000Z  ...  Unsexed - 1 Year           2016   1000.0\n",
              "2   3    4  2016-10-25T04:00:00.000Z  ...  Unsexed - 1 Year           2015   1000.0\n",
              "3   4   12  2016-07-04T04:00:00.000Z  ...  Unsexed - 3 Year           2013  11000.0\n",
              "4   5    4  2018-08-02T04:00:00.000Z  ...  Unsexed - 1 Year           2015    700.0\n",
              "\n",
              "[5 rows x 8 columns]"
            ]
          },
          "metadata": {
            "tags": []
          },
          "execution_count": 6
        }
      ]
    },
    {
      "cell_type": "markdown",
      "metadata": {
        "id": "lD5gTCD7asRo",
        "colab_type": "text"
      },
      "source": [
        "### 1. How many tags are given for each year?"
      ]
    },
    {
      "cell_type": "code",
      "metadata": {
        "id": "adLEQ6k_apzU",
        "colab_type": "code",
        "colab": {}
      },
      "source": [
        "#answer question 1 here"
      ],
      "execution_count": 0,
      "outputs": []
    },
    {
      "cell_type": "markdown",
      "metadata": {
        "id": "BEliFsRoaws_",
        "colab_type": "text"
      },
      "source": [
        "### 2. How much money was spent in 2015 on dog tags?"
      ]
    },
    {
      "cell_type": "code",
      "metadata": {
        "id": "UbEw6QIKawWX",
        "colab_type": "code",
        "colab": {}
      },
      "source": [
        "#answer question 2 here\n",
        "#hint: use the sum function at the end to find the total!"
      ],
      "execution_count": 0,
      "outputs": []
    },
    {
      "cell_type": "markdown",
      "metadata": {
        "id": "VPLrWyT-a6Zn",
        "colab_type": "text"
      },
      "source": [
        "### 3. Use the .describe() function on the dataframe. What do you see? Why do you think some columns don't have means/other summary stats? Write this in a comment."
      ]
    },
    {
      "cell_type": "code",
      "metadata": {
        "id": "0RezY_yLa33j",
        "colab_type": "code",
        "colab": {}
      },
      "source": [
        "#answer question 3 here"
      ],
      "execution_count": 0,
      "outputs": []
    },
    {
      "cell_type": "markdown",
      "metadata": {
        "id": "bGYN1lfjkVKt",
        "colab_type": "text"
      },
      "source": [
        "# Pandas Exercises Solutions"
      ]
    },
    {
      "cell_type": "markdown",
      "metadata": {
        "id": "4vT-9yIgsbHb",
        "colab_type": "text"
      },
      "source": [
        "### 1. How many tags are given for each year?"
      ]
    },
    {
      "cell_type": "code",
      "metadata": {
        "id": "rJVaQQ6unjK7",
        "colab_type": "code",
        "outputId": "f9bba596-8d1e-4d2f-c8cd-0c5a70c490f7",
        "colab": {
          "base_uri": "https://localhost:8080/",
          "height": 221
        }
      },
      "source": [
        "dogs['year'].value_counts()"
      ],
      "execution_count": 0,
      "outputs": [
        {
          "output_type": "execute_result",
          "data": {
            "text/plain": [
              "2012    2245\n",
              "2013    2183\n",
              "2015    2006\n",
              "2014    1929\n",
              "2011    1901\n",
              "2018    1896\n",
              "2016    1833\n",
              "2017    1611\n",
              "2010    1490\n",
              "2019    1241\n",
              "2009       2\n",
              "Name: year, dtype: int64"
            ]
          },
          "metadata": {
            "tags": []
          },
          "execution_count": 7
        }
      ]
    },
    {
      "cell_type": "markdown",
      "metadata": {
        "id": "zY3iJ3UCshAa",
        "colab_type": "text"
      },
      "source": [
        "### 2. How much money was spent on dog tags in 2015?"
      ]
    },
    {
      "cell_type": "code",
      "metadata": {
        "id": "DYeZZ28rr61o",
        "colab_type": "code",
        "outputId": "ece2cc20-87ef-482a-e108-7058981ef6e1",
        "colab": {
          "base_uri": "https://localhost:8080/",
          "height": 34
        }
      },
      "source": [
        "tags_2015 = dogs[dogs['year'] == 2015]\n",
        "fees_2015 = tags_2015['fee']\n",
        "sum(fees_2015)"
      ],
      "execution_count": 0,
      "outputs": [
        {
          "output_type": "execute_result",
          "data": {
            "text/plain": [
              "15170"
            ]
          },
          "metadata": {
            "tags": []
          },
          "execution_count": 8
        }
      ]
    },
    {
      "cell_type": "markdown",
      "metadata": {
        "id": "6Tr00fqWt5f6",
        "colab_type": "text"
      },
      "source": [
        "### 3. Use the .describe() function on the dataframe. What do you see? Why do you think some columns don't have means/other summary stats? Write this in a comment. "
      ]
    },
    {
      "cell_type": "code",
      "metadata": {
        "id": "rMNWZ8yst8gq",
        "colab_type": "code",
        "outputId": "cf2beb3d-f217-4fe2-9cf3-614db2eb441c",
        "colab": {
          "base_uri": "https://localhost:8080/",
          "height": 297
        }
      },
      "source": [
        "dogs.describe()"
      ],
      "execution_count": 0,
      "outputs": [
        {
          "output_type": "execute_result",
          "data": {
            "text/html": [
              "<div>\n",
              "<style scoped>\n",
              "    .dataframe tbody tr th:only-of-type {\n",
              "        vertical-align: middle;\n",
              "    }\n",
              "\n",
              "    .dataframe tbody tr th {\n",
              "        vertical-align: top;\n",
              "    }\n",
              "\n",
              "    .dataframe thead th {\n",
              "        text-align: right;\n",
              "    }\n",
              "</style>\n",
              "<table border=\"1\" class=\"dataframe\">\n",
              "  <thead>\n",
              "    <tr style=\"text-align: right;\">\n",
              "      <th></th>\n",
              "      <th>id</th>\n",
              "      <th>fee</th>\n",
              "      <th>number</th>\n",
              "      <th>year</th>\n",
              "      <th>block</th>\n",
              "    </tr>\n",
              "  </thead>\n",
              "  <tbody>\n",
              "    <tr>\n",
              "      <th>count</th>\n",
              "      <td>18337.000000</td>\n",
              "      <td>18337.000000</td>\n",
              "      <td>18335.000000</td>\n",
              "      <td>18337.000000</td>\n",
              "      <td>18328.000000</td>\n",
              "    </tr>\n",
              "    <tr>\n",
              "      <th>mean</th>\n",
              "      <td>9169.000000</td>\n",
              "      <td>7.380378</td>\n",
              "      <td>36622.870194</td>\n",
              "      <td>2014.324371</td>\n",
              "      <td>1494.789393</td>\n",
              "    </tr>\n",
              "    <tr>\n",
              "      <th>std</th>\n",
              "      <td>5293.580279</td>\n",
              "      <td>4.611274</td>\n",
              "      <td>10810.645863</td>\n",
              "      <td>2.717729</td>\n",
              "      <td>3196.291847</td>\n",
              "    </tr>\n",
              "    <tr>\n",
              "      <th>min</th>\n",
              "      <td>1.000000</td>\n",
              "      <td>0.000000</td>\n",
              "      <td>0.000000</td>\n",
              "      <td>2009.000000</td>\n",
              "      <td>0.000000</td>\n",
              "    </tr>\n",
              "    <tr>\n",
              "      <th>25%</th>\n",
              "      <td>4585.000000</td>\n",
              "      <td>4.000000</td>\n",
              "      <td>26035.500000</td>\n",
              "      <td>2012.000000</td>\n",
              "      <td>500.000000</td>\n",
              "    </tr>\n",
              "    <tr>\n",
              "      <th>50%</th>\n",
              "      <td>9169.000000</td>\n",
              "      <td>4.000000</td>\n",
              "      <td>38541.000000</td>\n",
              "      <td>2014.000000</td>\n",
              "      <td>1000.000000</td>\n",
              "    </tr>\n",
              "    <tr>\n",
              "      <th>75%</th>\n",
              "      <td>13753.000000</td>\n",
              "      <td>12.000000</td>\n",
              "      <td>44342.000000</td>\n",
              "      <td>2017.000000</td>\n",
              "      <td>1600.000000</td>\n",
              "    </tr>\n",
              "    <tr>\n",
              "      <th>max</th>\n",
              "      <td>18337.000000</td>\n",
              "      <td>150.000000</td>\n",
              "      <td>93963.000000</td>\n",
              "      <td>2019.000000</td>\n",
              "      <td>82600.000000</td>\n",
              "    </tr>\n",
              "  </tbody>\n",
              "</table>\n",
              "</div>"
            ],
            "text/plain": [
              "                 id           fee        number          year         block\n",
              "count  18337.000000  18337.000000  18335.000000  18337.000000  18328.000000\n",
              "mean    9169.000000      7.380378  36622.870194   2014.324371   1494.789393\n",
              "std     5293.580279      4.611274  10810.645863      2.717729   3196.291847\n",
              "min        1.000000      0.000000      0.000000   2009.000000      0.000000\n",
              "25%     4585.000000      4.000000  26035.500000   2012.000000    500.000000\n",
              "50%     9169.000000      4.000000  38541.000000   2014.000000   1000.000000\n",
              "75%    13753.000000     12.000000  44342.000000   2017.000000   1600.000000\n",
              "max    18337.000000    150.000000  93963.000000   2019.000000  82600.000000"
            ]
          },
          "metadata": {
            "tags": []
          },
          "execution_count": 9
        }
      ]
    }
  ]
}