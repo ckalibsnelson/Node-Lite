{
  "nbformat": 4,
  "nbformat_minor": 0,
  "metadata": {
    "colab": {
      "name": "FDNY Node Lite Exercise (10/1).ipynb",
      "provenance": [],
      "include_colab_link": true
    },
    "kernelspec": {
      "name": "python3",
      "display_name": "Python 3"
    }
  },
  "cells": [
    {
      "cell_type": "markdown",
      "metadata": {
        "id": "view-in-github",
        "colab_type": "text"
      },
      "source": [
        "<a href=\"https://colab.research.google.com/github/ckalibsnelson/Node-Lite/blob/master/FDNY_Node_Lite_Exercise_(10_1).ipynb\" target=\"_parent\"><img src=\"https://colab.research.google.com/assets/colab-badge.svg\" alt=\"Open In Colab\"/></a>"
      ]
    },
    {
      "cell_type": "code",
      "metadata": {
        "id": "SUHnPPMfje74",
        "colab_type": "code",
        "colab": {}
      },
      "source": [
        "#Import relevant libraries: Pandas and Numpy\n",
        "import pandas as pd\n",
        "#Pandas is for data manipulation and analysis, such as removing null values\n",
        "import numpy as np\n",
        "#Useful for mathematical functionality, such as sum"
      ],
      "execution_count": 0,
      "outputs": []
    },
    {
      "cell_type": "code",
      "metadata": {
        "id": "DQUfHqjlrqkE",
        "colab_type": "code",
        "colab": {
          "base_uri": "https://localhost:8080/",
          "height": 615
        },
        "outputId": "5133d3d2-cc9a-40a2-d7ef-2f3c17787564"
      },
      "source": [
        "#Create a dataframe of the fire department of New York City (FDNY) dataset\n",
        "#Location of Firehouses\n",
        "fdny = pd.read_csv('https://data.cityofnewyork.us/api/views/hc8x-tcnd/rows.csv?accessType=DOWNLOAD')\n",
        "#View the first five results of the data\n",
        "fdny.head()"
      ],
      "execution_count": 2,
      "outputs": [
        {
          "output_type": "execute_result",
          "data": {
            "text/html": [
              "<div>\n",
              "<style scoped>\n",
              "    .dataframe tbody tr th:only-of-type {\n",
              "        vertical-align: middle;\n",
              "    }\n",
              "\n",
              "    .dataframe tbody tr th {\n",
              "        vertical-align: top;\n",
              "    }\n",
              "\n",
              "    .dataframe thead th {\n",
              "        text-align: right;\n",
              "    }\n",
              "</style>\n",
              "<table border=\"1\" class=\"dataframe\">\n",
              "  <thead>\n",
              "    <tr style=\"text-align: right;\">\n",
              "      <th></th>\n",
              "      <th>FacilityName</th>\n",
              "      <th>FacilityAddress</th>\n",
              "      <th>Borough</th>\n",
              "      <th>Postcode</th>\n",
              "      <th>Latitude</th>\n",
              "      <th>Longitude</th>\n",
              "      <th>Community Board</th>\n",
              "      <th>Community Council</th>\n",
              "      <th>Census Tract</th>\n",
              "      <th>BIN</th>\n",
              "      <th>BBL</th>\n",
              "      <th>NTA</th>\n",
              "    </tr>\n",
              "  </thead>\n",
              "  <tbody>\n",
              "    <tr>\n",
              "      <th>0</th>\n",
              "      <td>Engine 4/Ladder 15</td>\n",
              "      <td>42 South Street</td>\n",
              "      <td>Manhattan</td>\n",
              "      <td>10005.0</td>\n",
              "      <td>40.703466</td>\n",
              "      <td>-74.007538</td>\n",
              "      <td>1.0</td>\n",
              "      <td>1.0</td>\n",
              "      <td>7.0</td>\n",
              "      <td>1000867.0</td>\n",
              "      <td>1.000350e+09</td>\n",
              "      <td>Battery Park City-Lower Manhattan             ...</td>\n",
              "    </tr>\n",
              "    <tr>\n",
              "      <th>1</th>\n",
              "      <td>Engine 10/Ladder 10</td>\n",
              "      <td>124 Liberty Street</td>\n",
              "      <td>Manhattan</td>\n",
              "      <td>10006.0</td>\n",
              "      <td>40.710072</td>\n",
              "      <td>-74.012523</td>\n",
              "      <td>1.0</td>\n",
              "      <td>1.0</td>\n",
              "      <td>13.0</td>\n",
              "      <td>1075700.0</td>\n",
              "      <td>1.000520e+09</td>\n",
              "      <td>Battery Park City-Lower Manhattan             ...</td>\n",
              "    </tr>\n",
              "    <tr>\n",
              "      <th>2</th>\n",
              "      <td>Engine 6</td>\n",
              "      <td>49 Beekman Street</td>\n",
              "      <td>Manhattan</td>\n",
              "      <td>10038.0</td>\n",
              "      <td>40.710048</td>\n",
              "      <td>-74.005245</td>\n",
              "      <td>1.0</td>\n",
              "      <td>1.0</td>\n",
              "      <td>1501.0</td>\n",
              "      <td>1001287.0</td>\n",
              "      <td>1.000930e+09</td>\n",
              "      <td>Battery Park City-Lower Manhattan             ...</td>\n",
              "    </tr>\n",
              "    <tr>\n",
              "      <th>3</th>\n",
              "      <td>Engine 7/Ladder 1/Battalion 1/Manhattan Boroug...</td>\n",
              "      <td>100-104 Duane Street</td>\n",
              "      <td>Manhattan</td>\n",
              "      <td>10007.0</td>\n",
              "      <td>40.715463</td>\n",
              "      <td>-74.005938</td>\n",
              "      <td>1.0</td>\n",
              "      <td>1.0</td>\n",
              "      <td>33.0</td>\n",
              "      <td>1001647.0</td>\n",
              "      <td>1.001500e+09</td>\n",
              "      <td>SoHo-TriBeCa-Civic Center-Little Italy        ...</td>\n",
              "    </tr>\n",
              "    <tr>\n",
              "      <th>4</th>\n",
              "      <td>Ladder 8</td>\n",
              "      <td>14 North Moore Street</td>\n",
              "      <td>Manhattan</td>\n",
              "      <td>10013.0</td>\n",
              "      <td>40.719759</td>\n",
              "      <td>-74.006678</td>\n",
              "      <td>1.0</td>\n",
              "      <td>1.0</td>\n",
              "      <td>33.0</td>\n",
              "      <td>1002150.0</td>\n",
              "      <td>1.001890e+09</td>\n",
              "      <td>SoHo-TriBeCa-Civic Center-Little Italy        ...</td>\n",
              "    </tr>\n",
              "  </tbody>\n",
              "</table>\n",
              "</div>"
            ],
            "text/plain": [
              "                                        FacilityName  ...                                                NTA\n",
              "0                                 Engine 4/Ladder 15  ...  Battery Park City-Lower Manhattan             ...\n",
              "1                                Engine 10/Ladder 10  ...  Battery Park City-Lower Manhattan             ...\n",
              "2                                           Engine 6  ...  Battery Park City-Lower Manhattan             ...\n",
              "3  Engine 7/Ladder 1/Battalion 1/Manhattan Boroug...  ...  SoHo-TriBeCa-Civic Center-Little Italy        ...\n",
              "4                                           Ladder 8  ...  SoHo-TriBeCa-Civic Center-Little Italy        ...\n",
              "\n",
              "[5 rows x 12 columns]"
            ]
          },
          "metadata": {
            "tags": []
          },
          "execution_count": 2
        }
      ]
    },
    {
      "cell_type": "code",
      "metadata": {
        "id": "2L8G8Pdvr1-T",
        "colab_type": "code",
        "colab": {
          "base_uri": "https://localhost:8080/",
          "height": 34
        },
        "outputId": "d97b5d0b-bd96-4b2c-abc5-5f9bbadfdf89"
      },
      "source": [
        "#view the type of the object\n",
        "type(fdny)"
      ],
      "execution_count": 3,
      "outputs": [
        {
          "output_type": "execute_result",
          "data": {
            "text/plain": [
              "pandas.core.frame.DataFrame"
            ]
          },
          "metadata": {
            "tags": []
          },
          "execution_count": 3
        }
      ]
    },
    {
      "cell_type": "code",
      "metadata": {
        "id": "BqrdThKQtF0d",
        "colab_type": "code",
        "colab": {
          "base_uri": "https://localhost:8080/",
          "height": 496
        },
        "outputId": "6d96f223-eefe-48c8-fac3-92e51d14ebcf"
      },
      "source": [
        "#View the last five results of the data\n",
        "fdny.tail()"
      ],
      "execution_count": 4,
      "outputs": [
        {
          "output_type": "execute_result",
          "data": {
            "text/html": [
              "<div>\n",
              "<style scoped>\n",
              "    .dataframe tbody tr th:only-of-type {\n",
              "        vertical-align: middle;\n",
              "    }\n",
              "\n",
              "    .dataframe tbody tr th {\n",
              "        vertical-align: top;\n",
              "    }\n",
              "\n",
              "    .dataframe thead th {\n",
              "        text-align: right;\n",
              "    }\n",
              "</style>\n",
              "<table border=\"1\" class=\"dataframe\">\n",
              "  <thead>\n",
              "    <tr style=\"text-align: right;\">\n",
              "      <th></th>\n",
              "      <th>FacilityName</th>\n",
              "      <th>FacilityAddress</th>\n",
              "      <th>Borough</th>\n",
              "      <th>Postcode</th>\n",
              "      <th>Latitude</th>\n",
              "      <th>Longitude</th>\n",
              "      <th>Community Board</th>\n",
              "      <th>Community Council</th>\n",
              "      <th>Census Tract</th>\n",
              "      <th>BIN</th>\n",
              "      <th>BBL</th>\n",
              "      <th>NTA</th>\n",
              "    </tr>\n",
              "  </thead>\n",
              "  <tbody>\n",
              "    <tr>\n",
              "      <th>213</th>\n",
              "      <td>Engine 162/Ladder 82/Battalion 23</td>\n",
              "      <td>256 Nelson Avenue</td>\n",
              "      <td>Staten Island</td>\n",
              "      <td>10308.0</td>\n",
              "      <td>40.543205</td>\n",
              "      <td>-74.147097</td>\n",
              "      <td>3.0</td>\n",
              "      <td>51.0</td>\n",
              "      <td>15601.0</td>\n",
              "      <td>5067428.0</td>\n",
              "      <td>5.052710e+09</td>\n",
              "      <td>Great Kills                                   ...</td>\n",
              "    </tr>\n",
              "    <tr>\n",
              "      <th>214</th>\n",
              "      <td>Engine 167/Ladder 87</td>\n",
              "      <td>345 Annadale Road</td>\n",
              "      <td>Staten Island</td>\n",
              "      <td>10312.0</td>\n",
              "      <td>40.554174</td>\n",
              "      <td>-74.175809</td>\n",
              "      <td>3.0</td>\n",
              "      <td>51.0</td>\n",
              "      <td>17012.0</td>\n",
              "      <td>5075428.0</td>\n",
              "      <td>5.056420e+09</td>\n",
              "      <td>Annadale-Huguenot-Prince's Bay-Eltingville    ...</td>\n",
              "    </tr>\n",
              "    <tr>\n",
              "      <th>215</th>\n",
              "      <td>Engine 164/Ladder 84</td>\n",
              "      <td>1560 Drumgoole Road West</td>\n",
              "      <td>Staten Island</td>\n",
              "      <td>10312.0</td>\n",
              "      <td>40.535332</td>\n",
              "      <td>-74.195611</td>\n",
              "      <td>3.0</td>\n",
              "      <td>51.0</td>\n",
              "      <td>20804.0</td>\n",
              "      <td>5083491.0</td>\n",
              "      <td>5.068280e+09</td>\n",
              "      <td>Rossville-Woodrow                             ...</td>\n",
              "    </tr>\n",
              "    <tr>\n",
              "      <th>216</th>\n",
              "      <td>Engine 168/EMS Station 23</td>\n",
              "      <td>1100 Rossville Avenue</td>\n",
              "      <td>Staten Island</td>\n",
              "      <td>10309.0</td>\n",
              "      <td>40.553977</td>\n",
              "      <td>-74.212812</td>\n",
              "      <td>3.0</td>\n",
              "      <td>51.0</td>\n",
              "      <td>20801.0</td>\n",
              "      <td>5154879.0</td>\n",
              "      <td>5.070670e+09</td>\n",
              "      <td>Rossville-Woodrow                             ...</td>\n",
              "    </tr>\n",
              "    <tr>\n",
              "      <th>217</th>\n",
              "      <td>Engine 151/Ladder 76</td>\n",
              "      <td>7219 Amboy Road</td>\n",
              "      <td>Staten Island</td>\n",
              "      <td>10307.0</td>\n",
              "      <td>40.512518</td>\n",
              "      <td>-74.238822</td>\n",
              "      <td>3.0</td>\n",
              "      <td>51.0</td>\n",
              "      <td>248.0</td>\n",
              "      <td>5089056.0</td>\n",
              "      <td>5.080400e+09</td>\n",
              "      <td>Charleston-Richmond Valley-Tottenville        ...</td>\n",
              "    </tr>\n",
              "  </tbody>\n",
              "</table>\n",
              "</div>"
            ],
            "text/plain": [
              "                          FacilityName  ...                                                NTA\n",
              "213  Engine 162/Ladder 82/Battalion 23  ...  Great Kills                                   ...\n",
              "214               Engine 167/Ladder 87  ...  Annadale-Huguenot-Prince's Bay-Eltingville    ...\n",
              "215               Engine 164/Ladder 84  ...  Rossville-Woodrow                             ...\n",
              "216          Engine 168/EMS Station 23  ...  Rossville-Woodrow                             ...\n",
              "217               Engine 151/Ladder 76  ...  Charleston-Richmond Valley-Tottenville        ...\n",
              "\n",
              "[5 rows x 12 columns]"
            ]
          },
          "metadata": {
            "tags": []
          },
          "execution_count": 4
        }
      ]
    },
    {
      "cell_type": "code",
      "metadata": {
        "id": "2hHxFrfHtRJD",
        "colab_type": "code",
        "colab": {
          "base_uri": "https://localhost:8080/",
          "height": 34
        },
        "outputId": "32278062-33a5-40dc-f4e9-e9426fa234cc"
      },
      "source": [
        "#Understand how many columns (items) and rows (features) there\n",
        "fdny.shape"
      ],
      "execution_count": 5,
      "outputs": [
        {
          "output_type": "execute_result",
          "data": {
            "text/plain": [
              "(218, 12)"
            ]
          },
          "metadata": {
            "tags": []
          },
          "execution_count": 5
        }
      ]
    },
    {
      "cell_type": "code",
      "metadata": {
        "id": "rQ941z_dtZFo",
        "colab_type": "code",
        "colab": {
          "base_uri": "https://localhost:8080/",
          "height": 334
        },
        "outputId": "45221ff8-c3ce-4b2b-d597-f6afb9c63fdd"
      },
      "source": [
        "#View statistics of data\n",
        "fdny.describe()"
      ],
      "execution_count": 6,
      "outputs": [
        {
          "output_type": "execute_result",
          "data": {
            "text/html": [
              "<div>\n",
              "<style scoped>\n",
              "    .dataframe tbody tr th:only-of-type {\n",
              "        vertical-align: middle;\n",
              "    }\n",
              "\n",
              "    .dataframe tbody tr th {\n",
              "        vertical-align: top;\n",
              "    }\n",
              "\n",
              "    .dataframe thead th {\n",
              "        text-align: right;\n",
              "    }\n",
              "</style>\n",
              "<table border=\"1\" class=\"dataframe\">\n",
              "  <thead>\n",
              "    <tr style=\"text-align: right;\">\n",
              "      <th></th>\n",
              "      <th>Postcode</th>\n",
              "      <th>Latitude</th>\n",
              "      <th>Longitude</th>\n",
              "      <th>Community Board</th>\n",
              "      <th>Community Council</th>\n",
              "      <th>Census Tract</th>\n",
              "      <th>BIN</th>\n",
              "      <th>BBL</th>\n",
              "    </tr>\n",
              "  </thead>\n",
              "  <tbody>\n",
              "    <tr>\n",
              "      <th>count</th>\n",
              "      <td>213.000000</td>\n",
              "      <td>213.000000</td>\n",
              "      <td>213.000000</td>\n",
              "      <td>213.000000</td>\n",
              "      <td>213.000000</td>\n",
              "      <td>213.000000</td>\n",
              "      <td>2.130000e+02</td>\n",
              "      <td>2.130000e+02</td>\n",
              "    </tr>\n",
              "    <tr>\n",
              "      <th>mean</th>\n",
              "      <td>10783.774648</td>\n",
              "      <td>40.719125</td>\n",
              "      <td>-73.937440</td>\n",
              "      <td>7.075117</td>\n",
              "      <td>25.629108</td>\n",
              "      <td>5949.535211</td>\n",
              "      <td>2.900421e+06</td>\n",
              "      <td>2.849843e+09</td>\n",
              "    </tr>\n",
              "    <tr>\n",
              "      <th>std</th>\n",
              "      <td>556.522394</td>\n",
              "      <td>0.083674</td>\n",
              "      <td>0.093686</td>\n",
              "      <td>7.033880</td>\n",
              "      <td>15.648512</td>\n",
              "      <td>19571.786111</td>\n",
              "      <td>1.306104e+06</td>\n",
              "      <td>1.285511e+09</td>\n",
              "    </tr>\n",
              "    <tr>\n",
              "      <th>min</th>\n",
              "      <td>10001.000000</td>\n",
              "      <td>40.512518</td>\n",
              "      <td>-74.238822</td>\n",
              "      <td>1.000000</td>\n",
              "      <td>1.000000</td>\n",
              "      <td>1.000000</td>\n",
              "      <td>1.000867e+06</td>\n",
              "      <td>1.000350e+09</td>\n",
              "    </tr>\n",
              "    <tr>\n",
              "      <th>25%</th>\n",
              "      <td>10304.000000</td>\n",
              "      <td>40.663404</td>\n",
              "      <td>-73.987182</td>\n",
              "      <td>3.000000</td>\n",
              "      <td>12.000000</td>\n",
              "      <td>129.000000</td>\n",
              "      <td>2.003268e+06</td>\n",
              "      <td>2.025140e+09</td>\n",
              "    </tr>\n",
              "    <tr>\n",
              "      <th>50%</th>\n",
              "      <td>11103.000000</td>\n",
              "      <td>40.715147</td>\n",
              "      <td>-73.938066</td>\n",
              "      <td>6.000000</td>\n",
              "      <td>27.000000</td>\n",
              "      <td>275.000000</td>\n",
              "      <td>3.064786e+06</td>\n",
              "      <td>3.024650e+09</td>\n",
              "    </tr>\n",
              "    <tr>\n",
              "      <th>75%</th>\n",
              "      <td>11231.000000</td>\n",
              "      <td>40.774505</td>\n",
              "      <td>-73.886796</td>\n",
              "      <td>11.000000</td>\n",
              "      <td>38.000000</td>\n",
              "      <td>800.000000</td>\n",
              "      <td>4.090228e+06</td>\n",
              "      <td>4.032940e+09</td>\n",
              "    </tr>\n",
              "    <tr>\n",
              "      <th>max</th>\n",
              "      <td>11695.000000</td>\n",
              "      <td>40.892803</td>\n",
              "      <td>-73.716559</td>\n",
              "      <td>84.000000</td>\n",
              "      <td>51.000000</td>\n",
              "      <td>157902.000000</td>\n",
              "      <td>5.154879e+06</td>\n",
              "      <td>5.080400e+09</td>\n",
              "    </tr>\n",
              "  </tbody>\n",
              "</table>\n",
              "</div>"
            ],
            "text/plain": [
              "           Postcode    Latitude  ...           BIN           BBL\n",
              "count    213.000000  213.000000  ...  2.130000e+02  2.130000e+02\n",
              "mean   10783.774648   40.719125  ...  2.900421e+06  2.849843e+09\n",
              "std      556.522394    0.083674  ...  1.306104e+06  1.285511e+09\n",
              "min    10001.000000   40.512518  ...  1.000867e+06  1.000350e+09\n",
              "25%    10304.000000   40.663404  ...  2.003268e+06  2.025140e+09\n",
              "50%    11103.000000   40.715147  ...  3.064786e+06  3.024650e+09\n",
              "75%    11231.000000   40.774505  ...  4.090228e+06  4.032940e+09\n",
              "max    11695.000000   40.892803  ...  5.154879e+06  5.080400e+09\n",
              "\n",
              "[8 rows x 8 columns]"
            ]
          },
          "metadata": {
            "tags": []
          },
          "execution_count": 6
        }
      ]
    },
    {
      "cell_type": "code",
      "metadata": {
        "id": "OU_i3lzptiXS",
        "colab_type": "code",
        "colab": {
          "base_uri": "https://localhost:8080/",
          "height": 173
        },
        "outputId": "834b396e-2a0b-495a-d36d-5f29e1150969"
      },
      "source": [
        "#How to show stats for categorical columns\n",
        "fdny.describe(include=['O'])"
      ],
      "execution_count": 7,
      "outputs": [
        {
          "output_type": "execute_result",
          "data": {
            "text/html": [
              "<div>\n",
              "<style scoped>\n",
              "    .dataframe tbody tr th:only-of-type {\n",
              "        vertical-align: middle;\n",
              "    }\n",
              "\n",
              "    .dataframe tbody tr th {\n",
              "        vertical-align: top;\n",
              "    }\n",
              "\n",
              "    .dataframe thead th {\n",
              "        text-align: right;\n",
              "    }\n",
              "</style>\n",
              "<table border=\"1\" class=\"dataframe\">\n",
              "  <thead>\n",
              "    <tr style=\"text-align: right;\">\n",
              "      <th></th>\n",
              "      <th>FacilityName</th>\n",
              "      <th>FacilityAddress</th>\n",
              "      <th>Borough</th>\n",
              "      <th>NTA</th>\n",
              "    </tr>\n",
              "  </thead>\n",
              "  <tbody>\n",
              "    <tr>\n",
              "      <th>count</th>\n",
              "      <td>218</td>\n",
              "      <td>218</td>\n",
              "      <td>218</td>\n",
              "      <td>213</td>\n",
              "    </tr>\n",
              "    <tr>\n",
              "      <th>unique</th>\n",
              "      <td>218</td>\n",
              "      <td>218</td>\n",
              "      <td>5</td>\n",
              "      <td>143</td>\n",
              "    </tr>\n",
              "    <tr>\n",
              "      <th>top</th>\n",
              "      <td>Engine 225/Ladder 107/Battalion 39</td>\n",
              "      <td>32 Ralph Avenue</td>\n",
              "      <td>Brooklyn</td>\n",
              "      <td>SoHo-TriBeCa-Civic Center-Little Italy        ...</td>\n",
              "    </tr>\n",
              "    <tr>\n",
              "      <th>freq</th>\n",
              "      <td>1</td>\n",
              "      <td>1</td>\n",
              "      <td>66</td>\n",
              "      <td>5</td>\n",
              "    </tr>\n",
              "  </tbody>\n",
              "</table>\n",
              "</div>"
            ],
            "text/plain": [
              "                              FacilityName  ...                                                NTA\n",
              "count                                  218  ...                                                213\n",
              "unique                                 218  ...                                                143\n",
              "top     Engine 225/Ladder 107/Battalion 39  ...  SoHo-TriBeCa-Civic Center-Little Italy        ...\n",
              "freq                                     1  ...                                                  5\n",
              "\n",
              "[4 rows x 4 columns]"
            ]
          },
          "metadata": {
            "tags": []
          },
          "execution_count": 7
        }
      ]
    },
    {
      "cell_type": "code",
      "metadata": {
        "id": "AybpCIN9tuzZ",
        "colab_type": "code",
        "colab": {
          "base_uri": "https://localhost:8080/",
          "height": 314
        },
        "outputId": "9eef9d81-511f-4552-e82d-2a4719e659d7"
      },
      "source": [
        "#For more granular information about the data\n",
        "fdny.info()"
      ],
      "execution_count": 8,
      "outputs": [
        {
          "output_type": "stream",
          "text": [
            "<class 'pandas.core.frame.DataFrame'>\n",
            "RangeIndex: 218 entries, 0 to 217\n",
            "Data columns (total 12 columns):\n",
            "FacilityName          218 non-null object\n",
            "FacilityAddress       218 non-null object\n",
            "Borough               218 non-null object\n",
            "Postcode              213 non-null float64\n",
            "Latitude              213 non-null float64\n",
            "Longitude             213 non-null float64\n",
            "Community Board       213 non-null float64\n",
            "Community Council     213 non-null float64\n",
            "Census Tract          213 non-null float64\n",
            "BIN                   213 non-null float64\n",
            "BBL                   213 non-null float64\n",
            "NTA                   213 non-null object\n",
            "dtypes: float64(8), object(4)\n",
            "memory usage: 20.5+ KB\n"
          ],
          "name": "stdout"
        }
      ]
    },
    {
      "cell_type": "code",
      "metadata": {
        "id": "xXC38cW_uked",
        "colab_type": "code",
        "colab": {
          "base_uri": "https://localhost:8080/",
          "height": 255
        },
        "outputId": "ad46f0a4-3f4a-4b87-fcda-1964006449c7"
      },
      "source": [
        "# use .iloc to slices via the position of the passed integers\n",
        "# : means all, 0:7 means from 0 to 7\n",
        "fdny.iloc[: , 0:7].head()"
      ],
      "execution_count": 9,
      "outputs": [
        {
          "output_type": "execute_result",
          "data": {
            "text/html": [
              "<div>\n",
              "<style scoped>\n",
              "    .dataframe tbody tr th:only-of-type {\n",
              "        vertical-align: middle;\n",
              "    }\n",
              "\n",
              "    .dataframe tbody tr th {\n",
              "        vertical-align: top;\n",
              "    }\n",
              "\n",
              "    .dataframe thead th {\n",
              "        text-align: right;\n",
              "    }\n",
              "</style>\n",
              "<table border=\"1\" class=\"dataframe\">\n",
              "  <thead>\n",
              "    <tr style=\"text-align: right;\">\n",
              "      <th></th>\n",
              "      <th>FacilityName</th>\n",
              "      <th>FacilityAddress</th>\n",
              "      <th>Borough</th>\n",
              "      <th>Postcode</th>\n",
              "      <th>Latitude</th>\n",
              "      <th>Longitude</th>\n",
              "      <th>Community Board</th>\n",
              "    </tr>\n",
              "  </thead>\n",
              "  <tbody>\n",
              "    <tr>\n",
              "      <th>0</th>\n",
              "      <td>Engine 4/Ladder 15</td>\n",
              "      <td>42 South Street</td>\n",
              "      <td>Manhattan</td>\n",
              "      <td>10005.0</td>\n",
              "      <td>40.703466</td>\n",
              "      <td>-74.007538</td>\n",
              "      <td>1.0</td>\n",
              "    </tr>\n",
              "    <tr>\n",
              "      <th>1</th>\n",
              "      <td>Engine 10/Ladder 10</td>\n",
              "      <td>124 Liberty Street</td>\n",
              "      <td>Manhattan</td>\n",
              "      <td>10006.0</td>\n",
              "      <td>40.710072</td>\n",
              "      <td>-74.012523</td>\n",
              "      <td>1.0</td>\n",
              "    </tr>\n",
              "    <tr>\n",
              "      <th>2</th>\n",
              "      <td>Engine 6</td>\n",
              "      <td>49 Beekman Street</td>\n",
              "      <td>Manhattan</td>\n",
              "      <td>10038.0</td>\n",
              "      <td>40.710048</td>\n",
              "      <td>-74.005245</td>\n",
              "      <td>1.0</td>\n",
              "    </tr>\n",
              "    <tr>\n",
              "      <th>3</th>\n",
              "      <td>Engine 7/Ladder 1/Battalion 1/Manhattan Boroug...</td>\n",
              "      <td>100-104 Duane Street</td>\n",
              "      <td>Manhattan</td>\n",
              "      <td>10007.0</td>\n",
              "      <td>40.715463</td>\n",
              "      <td>-74.005938</td>\n",
              "      <td>1.0</td>\n",
              "    </tr>\n",
              "    <tr>\n",
              "      <th>4</th>\n",
              "      <td>Ladder 8</td>\n",
              "      <td>14 North Moore Street</td>\n",
              "      <td>Manhattan</td>\n",
              "      <td>10013.0</td>\n",
              "      <td>40.719759</td>\n",
              "      <td>-74.006678</td>\n",
              "      <td>1.0</td>\n",
              "    </tr>\n",
              "  </tbody>\n",
              "</table>\n",
              "</div>"
            ],
            "text/plain": [
              "                                        FacilityName  ... Community Board\n",
              "0                                 Engine 4/Ladder 15  ...             1.0\n",
              "1                                Engine 10/Ladder 10  ...             1.0\n",
              "2                                           Engine 6  ...             1.0\n",
              "3  Engine 7/Ladder 1/Battalion 1/Manhattan Boroug...  ...             1.0\n",
              "4                                           Ladder 8  ...             1.0\n",
              "\n",
              "[5 rows x 7 columns]"
            ]
          },
          "metadata": {
            "tags": []
          },
          "execution_count": 9
        }
      ]
    },
    {
      "cell_type": "code",
      "metadata": {
        "id": "jVZvwxv4vCFX",
        "colab_type": "code",
        "colab": {
          "base_uri": "https://localhost:8080/",
          "height": 87
        },
        "outputId": "021f46b3-b5fc-4d6c-93d7-17ed497b02ab"
      },
      "source": [
        "#Show the title of each column(feature)\n",
        "fdny.columns\n",
        "\n",
        "#Census Tract: A census tract, census area, census district or meshblock is a geographic region defined for the purpose of taking a census.\n",
        "#BIN = Building Information Number\n",
        "#BBL = Borough Block & Lot\n",
        "#NTA = Neighborhood Tabulation Area"
      ],
      "execution_count": 10,
      "outputs": [
        {
          "output_type": "execute_result",
          "data": {
            "text/plain": [
              "Index(['FacilityName', 'FacilityAddress', 'Borough', 'Postcode', 'Latitude',\n",
              "       'Longitude', 'Community Board', 'Community Council ', 'Census Tract',\n",
              "       'BIN', 'BBL', 'NTA'],\n",
              "      dtype='object')"
            ]
          },
          "metadata": {
            "tags": []
          },
          "execution_count": 10
        }
      ]
    },
    {
      "cell_type": "code",
      "metadata": {
        "id": "69XtCOvNvTAG",
        "colab_type": "code",
        "colab": {
          "base_uri": "https://localhost:8080/",
          "height": 279
        },
        "outputId": "f1c293ce-3cf5-44ae-a49e-7e8252a8fc94"
      },
      "source": [
        "#Check for null values\n",
        "print('Let\\'s check for null values\\n')\n",
        "print(fdny.isnull().sum())"
      ],
      "execution_count": 12,
      "outputs": [
        {
          "output_type": "stream",
          "text": [
            "Let's check for null values\n",
            "\n",
            "FacilityName          0\n",
            "FacilityAddress       0\n",
            "Borough               0\n",
            "Postcode              5\n",
            "Latitude              5\n",
            "Longitude             5\n",
            "Community Board       5\n",
            "Community Council     5\n",
            "Census Tract          5\n",
            "BIN                   5\n",
            "BBL                   5\n",
            "NTA                   5\n",
            "dtype: int64\n"
          ],
          "name": "stdout"
        }
      ]
    },
    {
      "cell_type": "code",
      "metadata": {
        "id": "SJAeQVmvvxwB",
        "colab_type": "code",
        "colab": {
          "base_uri": "https://localhost:8080/",
          "height": 34
        },
        "outputId": "f63505f8-afee-4053-d821-62474bde53c4"
      },
      "source": [
        "#Drop NaN rows from RainToday column\n",
        "fdny.dropna(subset=['Postcode'],inplace=True)\n",
        "fdny.shape"
      ],
      "execution_count": 13,
      "outputs": [
        {
          "output_type": "execute_result",
          "data": {
            "text/plain": [
              "(213, 12)"
            ]
          },
          "metadata": {
            "tags": []
          },
          "execution_count": 13
        }
      ]
    },
    {
      "cell_type": "code",
      "metadata": {
        "id": "1PReJvpzvy-Z",
        "colab_type": "code",
        "colab": {
          "base_uri": "https://localhost:8080/",
          "height": 428
        },
        "outputId": "afeed227-94b0-4d3c-e83a-430cab11e560"
      },
      "source": [
        "#Sorting the results in asending order by Postcode\n",
        "fdny.sort_values(['Postcode'], ascending = True).head()"
      ],
      "execution_count": 17,
      "outputs": [
        {
          "output_type": "execute_result",
          "data": {
            "text/html": [
              "<div>\n",
              "<style scoped>\n",
              "    .dataframe tbody tr th:only-of-type {\n",
              "        vertical-align: middle;\n",
              "    }\n",
              "\n",
              "    .dataframe tbody tr th {\n",
              "        vertical-align: top;\n",
              "    }\n",
              "\n",
              "    .dataframe thead th {\n",
              "        text-align: right;\n",
              "    }\n",
              "</style>\n",
              "<table border=\"1\" class=\"dataframe\">\n",
              "  <thead>\n",
              "    <tr style=\"text-align: right;\">\n",
              "      <th></th>\n",
              "      <th>FacilityName</th>\n",
              "      <th>FacilityAddress</th>\n",
              "      <th>Borough</th>\n",
              "      <th>Postcode</th>\n",
              "      <th>Latitude</th>\n",
              "      <th>Longitude</th>\n",
              "      <th>Community Board</th>\n",
              "      <th>Community Council</th>\n",
              "      <th>Census Tract</th>\n",
              "      <th>BIN</th>\n",
              "      <th>BBL</th>\n",
              "      <th>NTA</th>\n",
              "    </tr>\n",
              "  </thead>\n",
              "  <tbody>\n",
              "    <tr>\n",
              "      <th>18</th>\n",
              "      <td>Engine 1/Ladder 24</td>\n",
              "      <td>142-46 West 31st Street</td>\n",
              "      <td>Manhattan</td>\n",
              "      <td>10001.0</td>\n",
              "      <td>40.748430</td>\n",
              "      <td>-73.990447</td>\n",
              "      <td>5.0</td>\n",
              "      <td>3.0</td>\n",
              "      <td>101.0</td>\n",
              "      <td>1015173.0</td>\n",
              "      <td>1.008060e+09</td>\n",
              "      <td>Midtown-Midtown South                         ...</td>\n",
              "    </tr>\n",
              "    <tr>\n",
              "      <th>6</th>\n",
              "      <td>Engine 15/Ladder 18/Battalion 4</td>\n",
              "      <td>25 Pitt Street</td>\n",
              "      <td>Manhattan</td>\n",
              "      <td>10002.0</td>\n",
              "      <td>40.716395</td>\n",
              "      <td>-73.983478</td>\n",
              "      <td>3.0</td>\n",
              "      <td>1.0</td>\n",
              "      <td>12.0</td>\n",
              "      <td>1004078.0</td>\n",
              "      <td>1.003420e+09</td>\n",
              "      <td>Lower East Side                               ...</td>\n",
              "    </tr>\n",
              "    <tr>\n",
              "      <th>5</th>\n",
              "      <td>Engine 9/Ladder 6</td>\n",
              "      <td>75 Canal Street</td>\n",
              "      <td>Manhattan</td>\n",
              "      <td>10002.0</td>\n",
              "      <td>40.715213</td>\n",
              "      <td>-73.992901</td>\n",
              "      <td>3.0</td>\n",
              "      <td>1.0</td>\n",
              "      <td>16.0</td>\n",
              "      <td>1003898.0</td>\n",
              "      <td>1.003000e+09</td>\n",
              "      <td>Chinatown                                     ...</td>\n",
              "    </tr>\n",
              "    <tr>\n",
              "      <th>8</th>\n",
              "      <td>Engine 5</td>\n",
              "      <td>340 East 14th Street</td>\n",
              "      <td>Manhattan</td>\n",
              "      <td>10003.0</td>\n",
              "      <td>40.731752</td>\n",
              "      <td>-73.983536</td>\n",
              "      <td>3.0</td>\n",
              "      <td>2.0</td>\n",
              "      <td>40.0</td>\n",
              "      <td>1006520.0</td>\n",
              "      <td>1.004550e+09</td>\n",
              "      <td>East Village                                  ...</td>\n",
              "    </tr>\n",
              "    <tr>\n",
              "      <th>19</th>\n",
              "      <td>Engine 14</td>\n",
              "      <td>14 East 18th Street</td>\n",
              "      <td>Manhattan</td>\n",
              "      <td>10003.0</td>\n",
              "      <td>40.738143</td>\n",
              "      <td>-73.990964</td>\n",
              "      <td>5.0</td>\n",
              "      <td>2.0</td>\n",
              "      <td>52.0</td>\n",
              "      <td>1016141.0</td>\n",
              "      <td>1.008460e+09</td>\n",
              "      <td>Hudson Yards-Chelsea-Flatiron-Union Square    ...</td>\n",
              "    </tr>\n",
              "  </tbody>\n",
              "</table>\n",
              "</div>"
            ],
            "text/plain": [
              "                       FacilityName  ...                                                NTA\n",
              "18               Engine 1/Ladder 24  ...  Midtown-Midtown South                         ...\n",
              "6   Engine 15/Ladder 18/Battalion 4  ...  Lower East Side                               ...\n",
              "5                 Engine 9/Ladder 6  ...  Chinatown                                     ...\n",
              "8                          Engine 5  ...  East Village                                  ...\n",
              "19                        Engine 14  ...  Hudson Yards-Chelsea-Flatiron-Union Square    ...\n",
              "\n",
              "[5 rows x 12 columns]"
            ]
          },
          "metadata": {
            "tags": []
          },
          "execution_count": 17
        }
      ]
    },
    {
      "cell_type": "code",
      "metadata": {
        "id": "znzCQZc0xReW",
        "colab_type": "code",
        "colab": {
          "base_uri": "https://localhost:8080/",
          "height": 52
        },
        "outputId": "89d9b0b4-ca9e-4d61-8c78-98961c192bcb"
      },
      "source": [
        "#View results of Borough column\n",
        "print('Let\\'s take a look at a non-numerical columns')\n",
        "print(fdny.Borough.unique())"
      ],
      "execution_count": 16,
      "outputs": [
        {
          "output_type": "stream",
          "text": [
            "Let's take a look at a non-numerical columns\n",
            "['Manhattan' 'Bronx' 'Brooklyn' 'Queens' 'Staten Island']\n"
          ],
          "name": "stdout"
        }
      ]
    },
    {
      "cell_type": "code",
      "metadata": {
        "id": "3TKD-TlKxrN_",
        "colab_type": "code",
        "colab": {
          "base_uri": "https://localhost:8080/",
          "height": 122
        },
        "outputId": "609c3f7c-0252-4ee3-8f66-7b9f0202879b"
      },
      "source": [
        "fdny['Borough'].value_counts(ascending = False)"
      ],
      "execution_count": 18,
      "outputs": [
        {
          "output_type": "execute_result",
          "data": {
            "text/plain": [
              "Brooklyn         64\n",
              "Queens           48\n",
              "Manhattan        47\n",
              "Bronx            34\n",
              "Staten Island    20\n",
              "Name: Borough, dtype: int64"
            ]
          },
          "metadata": {
            "tags": []
          },
          "execution_count": 18
        }
      ]
    },
    {
      "cell_type": "code",
      "metadata": {
        "id": "A6pFcEtRyzrF",
        "colab_type": "code",
        "colab": {
          "base_uri": "https://localhost:8080/",
          "height": 139
        },
        "outputId": "33c6fd5a-0b32-4cf6-9cf1-7b49a4ba96a6"
      },
      "source": [
        "fdny.groupby(['Borough']).Postcode.value_counts(ascending = False).head()"
      ],
      "execution_count": 20,
      "outputs": [
        {
          "output_type": "execute_result",
          "data": {
            "text/plain": [
              "Borough  Postcode\n",
              "Bronx    10457.0     5\n",
              "         10456.0     3\n",
              "         10452.0     2\n",
              "         10453.0     2\n",
              "         10455.0     2\n",
              "Name: Postcode, dtype: int64"
            ]
          },
          "metadata": {
            "tags": []
          },
          "execution_count": 20
        }
      ]
    },
    {
      "cell_type": "code",
      "metadata": {
        "id": "WyaiNsDRzdA5",
        "colab_type": "code",
        "colab": {
          "base_uri": "https://localhost:8080/",
          "height": 139
        },
        "outputId": "94c75247-d505-4a9a-ecdc-3fac3a208b42"
      },
      "source": [
        "#How many unique postcodes are there per Borough?\n",
        "fdny.groupby(['Borough'])['Postcode'].nunique()"
      ],
      "execution_count": 21,
      "outputs": [
        {
          "output_type": "execute_result",
          "data": {
            "text/plain": [
              "Borough\n",
              "Bronx            21\n",
              "Brooklyn         36\n",
              "Manhattan        31\n",
              "Queens           41\n",
              "Staten Island    12\n",
              "Name: Postcode, dtype: int64"
            ]
          },
          "metadata": {
            "tags": []
          },
          "execution_count": 21
        }
      ]
    },
    {
      "cell_type": "code",
      "metadata": {
        "id": "-7WT6VnB0BaV",
        "colab_type": "code",
        "colab": {
          "base_uri": "https://localhost:8080/",
          "height": 235
        },
        "outputId": "2dbae0a3-92de-4879-c59e-66e1f8e0fd70"
      },
      "source": [
        "#How many unique latitudes and longitudes are there per Borough?\n",
        "fdny.groupby(['Borough'])['Latitude','Longitude'].nunique()"
      ],
      "execution_count": 22,
      "outputs": [
        {
          "output_type": "execute_result",
          "data": {
            "text/html": [
              "<div>\n",
              "<style scoped>\n",
              "    .dataframe tbody tr th:only-of-type {\n",
              "        vertical-align: middle;\n",
              "    }\n",
              "\n",
              "    .dataframe tbody tr th {\n",
              "        vertical-align: top;\n",
              "    }\n",
              "\n",
              "    .dataframe thead th {\n",
              "        text-align: right;\n",
              "    }\n",
              "</style>\n",
              "<table border=\"1\" class=\"dataframe\">\n",
              "  <thead>\n",
              "    <tr style=\"text-align: right;\">\n",
              "      <th></th>\n",
              "      <th>Latitude</th>\n",
              "      <th>Longitude</th>\n",
              "    </tr>\n",
              "    <tr>\n",
              "      <th>Borough</th>\n",
              "      <th></th>\n",
              "      <th></th>\n",
              "    </tr>\n",
              "  </thead>\n",
              "  <tbody>\n",
              "    <tr>\n",
              "      <th>Bronx</th>\n",
              "      <td>34</td>\n",
              "      <td>34</td>\n",
              "    </tr>\n",
              "    <tr>\n",
              "      <th>Brooklyn</th>\n",
              "      <td>64</td>\n",
              "      <td>64</td>\n",
              "    </tr>\n",
              "    <tr>\n",
              "      <th>Manhattan</th>\n",
              "      <td>47</td>\n",
              "      <td>47</td>\n",
              "    </tr>\n",
              "    <tr>\n",
              "      <th>Queens</th>\n",
              "      <td>48</td>\n",
              "      <td>48</td>\n",
              "    </tr>\n",
              "    <tr>\n",
              "      <th>Staten Island</th>\n",
              "      <td>20</td>\n",
              "      <td>20</td>\n",
              "    </tr>\n",
              "  </tbody>\n",
              "</table>\n",
              "</div>"
            ],
            "text/plain": [
              "               Latitude  Longitude\n",
              "Borough                           \n",
              "Bronx                34         34\n",
              "Brooklyn             64         64\n",
              "Manhattan            47         47\n",
              "Queens               48         48\n",
              "Staten Island        20         20"
            ]
          },
          "metadata": {
            "tags": []
          },
          "execution_count": 22
        }
      ]
    },
    {
      "cell_type": "code",
      "metadata": {
        "id": "-oOVlEwA0Lh_",
        "colab_type": "code",
        "colab": {
          "base_uri": "https://localhost:8080/",
          "height": 204
        },
        "outputId": "fcc7cce6-1058-4f86-db96-7f310376e06d"
      },
      "source": [
        "#Rename a column in dataset\n",
        "fdny = fdny.rename(columns={'FacilityName':'Facility Name'}, inplace=False)\n",
        "#Creates a data frame of only the columns listed\n",
        "fdny[['Facility Name']].head()"
      ],
      "execution_count": 23,
      "outputs": [
        {
          "output_type": "execute_result",
          "data": {
            "text/html": [
              "<div>\n",
              "<style scoped>\n",
              "    .dataframe tbody tr th:only-of-type {\n",
              "        vertical-align: middle;\n",
              "    }\n",
              "\n",
              "    .dataframe tbody tr th {\n",
              "        vertical-align: top;\n",
              "    }\n",
              "\n",
              "    .dataframe thead th {\n",
              "        text-align: right;\n",
              "    }\n",
              "</style>\n",
              "<table border=\"1\" class=\"dataframe\">\n",
              "  <thead>\n",
              "    <tr style=\"text-align: right;\">\n",
              "      <th></th>\n",
              "      <th>Facility Name</th>\n",
              "    </tr>\n",
              "  </thead>\n",
              "  <tbody>\n",
              "    <tr>\n",
              "      <th>0</th>\n",
              "      <td>Engine 4/Ladder 15</td>\n",
              "    </tr>\n",
              "    <tr>\n",
              "      <th>1</th>\n",
              "      <td>Engine 10/Ladder 10</td>\n",
              "    </tr>\n",
              "    <tr>\n",
              "      <th>2</th>\n",
              "      <td>Engine 6</td>\n",
              "    </tr>\n",
              "    <tr>\n",
              "      <th>3</th>\n",
              "      <td>Engine 7/Ladder 1/Battalion 1/Manhattan Boroug...</td>\n",
              "    </tr>\n",
              "    <tr>\n",
              "      <th>4</th>\n",
              "      <td>Ladder 8</td>\n",
              "    </tr>\n",
              "  </tbody>\n",
              "</table>\n",
              "</div>"
            ],
            "text/plain": [
              "                                       Facility Name\n",
              "0                                 Engine 4/Ladder 15\n",
              "1                                Engine 10/Ladder 10\n",
              "2                                           Engine 6\n",
              "3  Engine 7/Ladder 1/Battalion 1/Manhattan Boroug...\n",
              "4                                           Ladder 8"
            ]
          },
          "metadata": {
            "tags": []
          },
          "execution_count": 23
        }
      ]
    },
    {
      "cell_type": "code",
      "metadata": {
        "id": "s-fXF6se0gcs",
        "colab_type": "code",
        "colab": {
          "base_uri": "https://localhost:8080/",
          "height": 204
        },
        "outputId": "83b467d1-7793-44c0-bc9c-dc3a3877d750"
      },
      "source": [
        "#There are two ways to get a column of a dataframe. One way is fdny.['COLUMN_NAME'] and the other way is fdny.COLUMN_NAME. You can also get multiple columns using fdny[['column1', 'column2']]\n",
        "fdny[['Facility Name', 'Borough']].head()"
      ],
      "execution_count": 24,
      "outputs": [
        {
          "output_type": "execute_result",
          "data": {
            "text/html": [
              "<div>\n",
              "<style scoped>\n",
              "    .dataframe tbody tr th:only-of-type {\n",
              "        vertical-align: middle;\n",
              "    }\n",
              "\n",
              "    .dataframe tbody tr th {\n",
              "        vertical-align: top;\n",
              "    }\n",
              "\n",
              "    .dataframe thead th {\n",
              "        text-align: right;\n",
              "    }\n",
              "</style>\n",
              "<table border=\"1\" class=\"dataframe\">\n",
              "  <thead>\n",
              "    <tr style=\"text-align: right;\">\n",
              "      <th></th>\n",
              "      <th>Facility Name</th>\n",
              "      <th>Borough</th>\n",
              "    </tr>\n",
              "  </thead>\n",
              "  <tbody>\n",
              "    <tr>\n",
              "      <th>0</th>\n",
              "      <td>Engine 4/Ladder 15</td>\n",
              "      <td>Manhattan</td>\n",
              "    </tr>\n",
              "    <tr>\n",
              "      <th>1</th>\n",
              "      <td>Engine 10/Ladder 10</td>\n",
              "      <td>Manhattan</td>\n",
              "    </tr>\n",
              "    <tr>\n",
              "      <th>2</th>\n",
              "      <td>Engine 6</td>\n",
              "      <td>Manhattan</td>\n",
              "    </tr>\n",
              "    <tr>\n",
              "      <th>3</th>\n",
              "      <td>Engine 7/Ladder 1/Battalion 1/Manhattan Boroug...</td>\n",
              "      <td>Manhattan</td>\n",
              "    </tr>\n",
              "    <tr>\n",
              "      <th>4</th>\n",
              "      <td>Ladder 8</td>\n",
              "      <td>Manhattan</td>\n",
              "    </tr>\n",
              "  </tbody>\n",
              "</table>\n",
              "</div>"
            ],
            "text/plain": [
              "                                       Facility Name    Borough\n",
              "0                                 Engine 4/Ladder 15  Manhattan\n",
              "1                                Engine 10/Ladder 10  Manhattan\n",
              "2                                           Engine 6  Manhattan\n",
              "3  Engine 7/Ladder 1/Battalion 1/Manhattan Boroug...  Manhattan\n",
              "4                                           Ladder 8  Manhattan"
            ]
          },
          "metadata": {
            "tags": []
          },
          "execution_count": 24
        }
      ]
    },
    {
      "cell_type": "code",
      "metadata": {
        "id": "T9zNuKxQ0vvZ",
        "colab_type": "code",
        "colab": {
          "base_uri": "https://localhost:8080/",
          "height": 974
        },
        "outputId": "f03f02e0-a3d9-4d08-f248-e13298b72550"
      },
      "source": [
        "#Select the Boroughs that start with S\n",
        "fdny[fdny.Borough.str.startswith('S')].head(10)"
      ],
      "execution_count": 25,
      "outputs": [
        {
          "output_type": "execute_result",
          "data": {
            "text/html": [
              "<div>\n",
              "<style scoped>\n",
              "    .dataframe tbody tr th:only-of-type {\n",
              "        vertical-align: middle;\n",
              "    }\n",
              "\n",
              "    .dataframe tbody tr th {\n",
              "        vertical-align: top;\n",
              "    }\n",
              "\n",
              "    .dataframe thead th {\n",
              "        text-align: right;\n",
              "    }\n",
              "</style>\n",
              "<table border=\"1\" class=\"dataframe\">\n",
              "  <thead>\n",
              "    <tr style=\"text-align: right;\">\n",
              "      <th></th>\n",
              "      <th>Facility Name</th>\n",
              "      <th>FacilityAddress</th>\n",
              "      <th>Borough</th>\n",
              "      <th>Postcode</th>\n",
              "      <th>Latitude</th>\n",
              "      <th>Longitude</th>\n",
              "      <th>Community Board</th>\n",
              "      <th>Community Council</th>\n",
              "      <th>Census Tract</th>\n",
              "      <th>BIN</th>\n",
              "      <th>BBL</th>\n",
              "      <th>NTA</th>\n",
              "    </tr>\n",
              "  </thead>\n",
              "  <tbody>\n",
              "    <tr>\n",
              "      <th>198</th>\n",
              "      <td>Marine 9</td>\n",
              "      <td>Saint George Ferry Terminal</td>\n",
              "      <td>Staten Island</td>\n",
              "      <td>10301.0</td>\n",
              "      <td>40.644112</td>\n",
              "      <td>-74.072559</td>\n",
              "      <td>1.0</td>\n",
              "      <td>49.0</td>\n",
              "      <td>3.0</td>\n",
              "      <td>5000000.0</td>\n",
              "      <td>5.000020e+09</td>\n",
              "      <td>West New Brighton-New Brighton-St. George     ...</td>\n",
              "    </tr>\n",
              "    <tr>\n",
              "      <th>199</th>\n",
              "      <td>Engine 155/Ladder 78</td>\n",
              "      <td>14 Brighton Avenue</td>\n",
              "      <td>Staten Island</td>\n",
              "      <td>10301.0</td>\n",
              "      <td>40.637734</td>\n",
              "      <td>-74.087746</td>\n",
              "      <td>1.0</td>\n",
              "      <td>49.0</td>\n",
              "      <td>77.0</td>\n",
              "      <td>5002472.0</td>\n",
              "      <td>5.001030e+09</td>\n",
              "      <td>West New Brighton-New Brighton-St. George     ...</td>\n",
              "    </tr>\n",
              "    <tr>\n",
              "      <th>200</th>\n",
              "      <td>Ladder 79/Battalion 22</td>\n",
              "      <td>1189 Castleton Avenue</td>\n",
              "      <td>Staten Island</td>\n",
              "      <td>10310.0</td>\n",
              "      <td>40.634150</td>\n",
              "      <td>-74.122199</td>\n",
              "      <td>1.0</td>\n",
              "      <td>49.0</td>\n",
              "      <td>13302.0</td>\n",
              "      <td>5005308.0</td>\n",
              "      <td>5.001980e+09</td>\n",
              "      <td>West New Brighton-New Brighton-St. George     ...</td>\n",
              "    </tr>\n",
              "    <tr>\n",
              "      <th>201</th>\n",
              "      <td>Engine 156</td>\n",
              "      <td>412 Broadway</td>\n",
              "      <td>Staten Island</td>\n",
              "      <td>10310.0</td>\n",
              "      <td>40.631093</td>\n",
              "      <td>-74.116574</td>\n",
              "      <td>1.0</td>\n",
              "      <td>49.0</td>\n",
              "      <td>125.0</td>\n",
              "      <td>5005815.0</td>\n",
              "      <td>5.002170e+09</td>\n",
              "      <td>West New Brighton-New Brighton-St. George     ...</td>\n",
              "    </tr>\n",
              "    <tr>\n",
              "      <th>202</th>\n",
              "      <td>Engine 163/Ladder 83</td>\n",
              "      <td>875 Jewett Avenue</td>\n",
              "      <td>Staten Island</td>\n",
              "      <td>10314.0</td>\n",
              "      <td>40.615251</td>\n",
              "      <td>-74.130971</td>\n",
              "      <td>1.0</td>\n",
              "      <td>50.0</td>\n",
              "      <td>151.0</td>\n",
              "      <td>5010816.0</td>\n",
              "      <td>5.003770e+09</td>\n",
              "      <td>Westerleigh                                   ...</td>\n",
              "    </tr>\n",
              "    <tr>\n",
              "      <th>203</th>\n",
              "      <td>Engine 153/Ladder 77</td>\n",
              "      <td>74 Broad Street</td>\n",
              "      <td>Staten Island</td>\n",
              "      <td>10304.0</td>\n",
              "      <td>40.625167</td>\n",
              "      <td>-74.077772</td>\n",
              "      <td>1.0</td>\n",
              "      <td>49.0</td>\n",
              "      <td>27.0</td>\n",
              "      <td>5013836.0</td>\n",
              "      <td>5.005290e+09</td>\n",
              "      <td>Stapleton-Rosebank                            ...</td>\n",
              "    </tr>\n",
              "    <tr>\n",
              "      <th>204</th>\n",
              "      <td>Engine 165/Ladder 85</td>\n",
              "      <td>3067 Richmond Road</td>\n",
              "      <td>Staten Island</td>\n",
              "      <td>10306.0</td>\n",
              "      <td>40.575827</td>\n",
              "      <td>-74.123727</td>\n",
              "      <td>2.0</td>\n",
              "      <td>50.0</td>\n",
              "      <td>181.0</td>\n",
              "      <td>5023532.0</td>\n",
              "      <td>5.009490e+09</td>\n",
              "      <td>Todt Hill-Emerson Hill-Heartland Village-Light...</td>\n",
              "    </tr>\n",
              "    <tr>\n",
              "      <th>205</th>\n",
              "      <td>Engine 157/Ladder 80</td>\n",
              "      <td>1573 Castleton Avenue</td>\n",
              "      <td>Staten Island</td>\n",
              "      <td>10302.0</td>\n",
              "      <td>40.636052</td>\n",
              "      <td>-74.135343</td>\n",
              "      <td>1.0</td>\n",
              "      <td>49.0</td>\n",
              "      <td>207.0</td>\n",
              "      <td>5025442.0</td>\n",
              "      <td>5.010800e+09</td>\n",
              "      <td>Port Richmond                                 ...</td>\n",
              "    </tr>\n",
              "    <tr>\n",
              "      <th>206</th>\n",
              "      <td>Engine 158</td>\n",
              "      <td>65 Harbor Road</td>\n",
              "      <td>Staten Island</td>\n",
              "      <td>10303.0</td>\n",
              "      <td>40.635547</td>\n",
              "      <td>-74.160224</td>\n",
              "      <td>1.0</td>\n",
              "      <td>49.0</td>\n",
              "      <td>223.0</td>\n",
              "      <td>5027755.0</td>\n",
              "      <td>5.012270e+09</td>\n",
              "      <td>Mariner's Harbor-Arlington-Port Ivory-Granitev...</td>\n",
              "    </tr>\n",
              "    <tr>\n",
              "      <th>207</th>\n",
              "      <td>Engine 166/Ladder 86</td>\n",
              "      <td>1400 Richmond Avenue</td>\n",
              "      <td>Staten Island</td>\n",
              "      <td>10314.0</td>\n",
              "      <td>40.614265</td>\n",
              "      <td>-74.157735</td>\n",
              "      <td>2.0</td>\n",
              "      <td>50.0</td>\n",
              "      <td>29104.0</td>\n",
              "      <td>5031692.0</td>\n",
              "      <td>5.016120e+09</td>\n",
              "      <td>New Springville-Bloomfield-Travis             ...</td>\n",
              "    </tr>\n",
              "  </tbody>\n",
              "</table>\n",
              "</div>"
            ],
            "text/plain": [
              "              Facility Name  ...                                                NTA\n",
              "198                Marine 9  ...  West New Brighton-New Brighton-St. George     ...\n",
              "199    Engine 155/Ladder 78  ...  West New Brighton-New Brighton-St. George     ...\n",
              "200  Ladder 79/Battalion 22  ...  West New Brighton-New Brighton-St. George     ...\n",
              "201              Engine 156  ...  West New Brighton-New Brighton-St. George     ...\n",
              "202    Engine 163/Ladder 83  ...  Westerleigh                                   ...\n",
              "203    Engine 153/Ladder 77  ...  Stapleton-Rosebank                            ...\n",
              "204    Engine 165/Ladder 85  ...  Todt Hill-Emerson Hill-Heartland Village-Light...\n",
              "205    Engine 157/Ladder 80  ...  Port Richmond                                 ...\n",
              "206              Engine 158  ...  Mariner's Harbor-Arlington-Port Ivory-Granitev...\n",
              "207    Engine 166/Ladder 86  ...  New Springville-Bloomfield-Travis             ...\n",
              "\n",
              "[10 rows x 12 columns]"
            ]
          },
          "metadata": {
            "tags": []
          },
          "execution_count": 25
        }
      ]
    },
    {
      "cell_type": "code",
      "metadata": {
        "id": "vo57G-me1g1E",
        "colab_type": "code",
        "colab": {}
      },
      "source": [
        ""
      ],
      "execution_count": 0,
      "outputs": []
    }
  ]
}